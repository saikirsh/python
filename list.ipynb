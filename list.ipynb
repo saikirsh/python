{
  "nbformat": 4,
  "nbformat_minor": 0,
  "metadata": {
    "colab": {
      "name": "list.ipynb",
      "provenance": [],
      "authorship_tag": "ABX9TyOmvDJhtIl88qebWTMl0dXc",
      "include_colab_link": true
    },
    "kernelspec": {
      "name": "python3",
      "display_name": "Python 3"
    },
    "language_info": {
      "name": "python"
    }
  },
  "cells": [
    {
      "cell_type": "markdown",
      "metadata": {
        "id": "view-in-github",
        "colab_type": "text"
      },
      "source": [
        "<a href=\"https://colab.research.google.com/github/saikirsh/python/blob/main/list.ipynb\" target=\"_parent\"><img src=\"https://colab.research.google.com/assets/colab-badge.svg\" alt=\"Open In Colab\"/></a>"
      ]
    },
    {
      "cell_type": "code",
      "execution_count": null,
      "metadata": {
        "colab": {
          "base_uri": "https://localhost:8080/"
        },
        "id": "cprQcTZTVxl9",
        "outputId": "9a80cb9b-1468-48ea-9757-04e01847c9df"
      },
      "outputs": [
        {
          "output_type": "stream",
          "name": "stdout",
          "text": [
            "['Apple', 'Guava', 'mango', 'pineapple', 'Orange']\n"
          ]
        }
      ],
      "source": [
        "fruit =[\"Apple\",\"Guava\",\"mango\",\"pineapple\",\"Orange\"]\n",
        "\n",
        "print (fruit)"
      ]
    },
    {
      "cell_type": "code",
      "source": [
        "fruit =[\"Apple\",\"Guava\",\"mango\",\"pineapple\",\"Orange\"]\n",
        "\n",
        "print (fruit[0])"
      ],
      "metadata": {
        "colab": {
          "base_uri": "https://localhost:8080/"
        },
        "id": "D0WW4vDZXD-I",
        "outputId": "e69946c9-8130-469a-82e3-cc86ca6d6bb8"
      },
      "execution_count": null,
      "outputs": [
        {
          "output_type": "stream",
          "name": "stdout",
          "text": [
            "Apple\n"
          ]
        }
      ]
    },
    {
      "cell_type": "code",
      "source": [
        "fruit =[\"Apple\",\"Guava\",\"mango\",\"pineapple\",\"Orange\"]\n",
        "\n",
        "print (fruit[1])"
      ],
      "metadata": {
        "colab": {
          "base_uri": "https://localhost:8080/"
        },
        "id": "qkI_xkWOXdAx",
        "outputId": "aec3de4d-0ec5-4de0-c554-a7c25b83897c"
      },
      "execution_count": null,
      "outputs": [
        {
          "output_type": "stream",
          "name": "stdout",
          "text": [
            "Guava\n"
          ]
        }
      ]
    },
    {
      "cell_type": "code",
      "source": [
        "fruit =[\"Apple\",\"Guava\",\"mango\",\"pineapple\",\"Orange\"]\n",
        "\n",
        "print (fruit[2])"
      ],
      "metadata": {
        "colab": {
          "base_uri": "https://localhost:8080/"
        },
        "id": "SoeZefgZXok_",
        "outputId": "ee1d9a26-a42e-4013-b960-c2fa9e1d6ec5"
      },
      "execution_count": null,
      "outputs": [
        {
          "output_type": "stream",
          "name": "stdout",
          "text": [
            "mango\n"
          ]
        }
      ]
    },
    {
      "cell_type": "code",
      "source": [
        "fruit =[\"Apple\",\"Guava\",\"mango\",\"pineapple\",\"Orange\"]\n",
        "\n",
        "print (fruit[-1])"
      ],
      "metadata": {
        "colab": {
          "base_uri": "https://localhost:8080/"
        },
        "id": "3fv7BnmrXs0e",
        "outputId": "cc1006a0-62ba-44c5-854b-fbc0f5cd5c9a"
      },
      "execution_count": null,
      "outputs": [
        {
          "output_type": "stream",
          "name": "stdout",
          "text": [
            "Orange\n"
          ]
        }
      ]
    },
    {
      "cell_type": "code",
      "source": [
        "fruit =[\"Apple\",\"Guava\",\"mango\",\"pineapple\",\"Orange\"]\n",
        "\n",
        "print (fruit[-2])"
      ],
      "metadata": {
        "colab": {
          "base_uri": "https://localhost:8080/"
        },
        "id": "WtQMofDuXxPP",
        "outputId": "54dbe189-d761-4a4b-dd44-f6462310e6b6"
      },
      "execution_count": null,
      "outputs": [
        {
          "output_type": "stream",
          "name": "stdout",
          "text": [
            "pineapple\n"
          ]
        }
      ]
    },
    {
      "cell_type": "code",
      "source": [
        "fruit =[\"Apple\",\"Guava\",\"mango\",\"pineapple\",\"Orange\"]\n",
        "\n",
        "print (fruit)\n",
        "print (fruit[0])\n",
        "print (fruit[1])\n",
        "print (fruit[-1])"
      ],
      "metadata": {
        "colab": {
          "base_uri": "https://localhost:8080/"
        },
        "id": "qWsoTQ6wZlhG",
        "outputId": "96d8e095-87f0-4003-8af8-d5294718c654"
      },
      "execution_count": null,
      "outputs": [
        {
          "output_type": "stream",
          "name": "stdout",
          "text": [
            "['Apple', 'Guava', 'mango', 'pineapple', 'Orange']\n",
            "Apple\n",
            "Guava\n",
            "Orange\n"
          ]
        }
      ]
    },
    {
      "cell_type": "code",
      "source": [
        "fruit =[\"Apple\",\"Guava\",\"mango\",\"pineapple\",\"Orange\"]\n",
        "\n",
        "print (fruit)\n",
        "print (fruit[0:2])\n",
        "print (fruit[:2])\n",
        "print (fruit[1:2])"
      ],
      "metadata": {
        "colab": {
          "base_uri": "https://localhost:8080/"
        },
        "id": "65iKa8BkX91w",
        "outputId": "c67a0e5d-8536-47dd-c795-5167204e520f"
      },
      "execution_count": null,
      "outputs": [
        {
          "output_type": "stream",
          "name": "stdout",
          "text": [
            "['Apple', 'Guava', 'mango', 'pineapple', 'Orange']\n",
            "['Apple', 'Guava']\n",
            "['Apple', 'Guava']\n",
            "['Guava']\n"
          ]
        }
      ]
    },
    {
      "cell_type": "code",
      "source": [
        "fruit =[\"Apple\",\"Guava\",\"mango\",\"pineapple\",\"Orange\"]\n",
        "\n",
        "print (fruit)\n",
        "print (fruit[0:2])\n",
        "print (fruit[:2])\n",
        "print (fruit[1:2])\n",
        "print (fruit[1:])"
      ],
      "metadata": {
        "colab": {
          "base_uri": "https://localhost:8080/"
        },
        "id": "Q6d0gWC0ZbtB",
        "outputId": "85336147-740a-436e-fb91-f7b26d3755bf"
      },
      "execution_count": null,
      "outputs": [
        {
          "output_type": "stream",
          "name": "stdout",
          "text": [
            "['Apple', 'Guava', 'mango', 'pineapple', 'Orange']\n",
            "['Apple', 'Guava']\n",
            "['Apple', 'Guava']\n",
            "['Guava']\n",
            "['Guava', 'mango', 'pineapple', 'Orange']\n"
          ]
        }
      ]
    },
    {
      "cell_type": "code",
      "source": [
        "fruit =[\"Apple\",\"Guava\",\"mango\",\"pineapple\",\"Orange\"]\n",
        "\n",
        "print (fruit[-1])\n",
        "print (fruit[0::3])\n",
        "print (fruit[1::4])\n",
        "print (fruit[1:4])"
      ],
      "metadata": {
        "colab": {
          "base_uri": "https://localhost:8080/"
        },
        "id": "PE45yHkoZjug",
        "outputId": "6ea9de3f-9e5c-47e4-9da1-9fccb1c27b13"
      },
      "execution_count": null,
      "outputs": [
        {
          "output_type": "stream",
          "name": "stdout",
          "text": [
            "Orange\n",
            "['Apple', 'pineapple']\n",
            "['Guava']\n",
            "['Guava', 'mango', 'pineapple']\n"
          ]
        }
      ]
    },
    {
      "cell_type": "code",
      "source": [
        "fruit =[\"Apple\",\"Guava\",\"mango\",\"pineapple\",\"Orange\"]\n",
        "\n",
        "print (fruit)\n",
        "fruit.append(\"muskmeion\")\n",
        "print (fruit)"
      ],
      "metadata": {
        "id": "ZDsQjZXlavgP",
        "outputId": "9143aace-c1a0-453d-9cf7-bf7af62353a4",
        "colab": {
          "base_uri": "https://localhost:8080/"
        }
      },
      "execution_count": 1,
      "outputs": [
        {
          "output_type": "stream",
          "name": "stdout",
          "text": [
            "['Apple', 'Guava', 'mango', 'pineapple', 'Orange']\n",
            "['Apple', 'Guava', 'mango', 'pineapple', 'Orange', 'muskmeion']\n"
          ]
        }
      ]
    }
  ]
}