{
  "nbformat": 4,
  "nbformat_minor": 0,
  "metadata": {
    "colab": {
      "name": "list.ipynb",
      "provenance": [],
      "authorship_tag": "ABX9TyNLTUF46H48Gi1en2nQZcxY",
      "include_colab_link": true
    },
    "kernelspec": {
      "name": "python3",
      "display_name": "Python 3"
    },
    "language_info": {
      "name": "python"
    }
  },
  "cells": [
    {
      "cell_type": "markdown",
      "metadata": {
        "id": "view-in-github",
        "colab_type": "text"
      },
      "source": [
        "<a href=\"https://colab.research.google.com/github/saikirsh/python/blob/main/list.ipynb\" target=\"_parent\"><img src=\"https://colab.research.google.com/assets/colab-badge.svg\" alt=\"Open In Colab\"/></a>"
      ]
    },
    {
      "cell_type": "code",
      "execution_count": null,
      "metadata": {
        "colab": {
          "base_uri": "https://localhost:8080/"
        },
        "id": "cprQcTZTVxl9",
        "outputId": "9a80cb9b-1468-48ea-9757-04e01847c9df"
      },
      "outputs": [
        {
          "output_type": "stream",
          "name": "stdout",
          "text": [
            "['Apple', 'Guava', 'mango', 'pineapple', 'Orange']\n"
          ]
        }
      ],
      "source": [
        "fruit =[\"Apple\",\"Guava\",\"mango\",\"pineapple\",\"Orange\"]\n",
        "\n",
        "print (fruit)"
      ]
    },
    {
      "cell_type": "code",
      "source": [
        "fruit =[\"Apple\",\"Guava\",\"mango\",\"pineapple\",\"Orange\"]\n",
        "\n",
        "print (fruit[0])"
      ],
      "metadata": {
        "colab": {
          "base_uri": "https://localhost:8080/"
        },
        "id": "D0WW4vDZXD-I",
        "outputId": "e69946c9-8130-469a-82e3-cc86ca6d6bb8"
      },
      "execution_count": null,
      "outputs": [
        {
          "output_type": "stream",
          "name": "stdout",
          "text": [
            "Apple\n"
          ]
        }
      ]
    },
    {
      "cell_type": "code",
      "source": [
        "fruit =[\"Apple\",\"Guava\",\"mango\",\"pineapple\",\"Orange\"]\n",
        "\n",
        "print (fruit[1])"
      ],
      "metadata": {
        "colab": {
          "base_uri": "https://localhost:8080/"
        },
        "id": "qkI_xkWOXdAx",
        "outputId": "aec3de4d-0ec5-4de0-c554-a7c25b83897c"
      },
      "execution_count": null,
      "outputs": [
        {
          "output_type": "stream",
          "name": "stdout",
          "text": [
            "Guava\n"
          ]
        }
      ]
    },
    {
      "cell_type": "code",
      "source": [
        "fruit =[\"Apple\",\"Guava\",\"mango\",\"pineapple\",\"Orange\"]\n",
        "\n",
        "print (fruit[2])"
      ],
      "metadata": {
        "colab": {
          "base_uri": "https://localhost:8080/"
        },
        "id": "SoeZefgZXok_",
        "outputId": "ee1d9a26-a42e-4013-b960-c2fa9e1d6ec5"
      },
      "execution_count": null,
      "outputs": [
        {
          "output_type": "stream",
          "name": "stdout",
          "text": [
            "mango\n"
          ]
        }
      ]
    },
    {
      "cell_type": "code",
      "source": [
        "fruit =[\"Apple\",\"Guava\",\"mango\",\"pineapple\",\"Orange\"]\n",
        "\n",
        "print (fruit[-1])"
      ],
      "metadata": {
        "colab": {
          "base_uri": "https://localhost:8080/"
        },
        "id": "3fv7BnmrXs0e",
        "outputId": "cc1006a0-62ba-44c5-854b-fbc0f5cd5c9a"
      },
      "execution_count": null,
      "outputs": [
        {
          "output_type": "stream",
          "name": "stdout",
          "text": [
            "Orange\n"
          ]
        }
      ]
    },
    {
      "cell_type": "code",
      "source": [
        "fruit =[\"Apple\",\"Guava\",\"mango\",\"pineapple\",\"Orange\"]\n",
        "\n",
        "print (fruit[-2])"
      ],
      "metadata": {
        "colab": {
          "base_uri": "https://localhost:8080/"
        },
        "id": "WtQMofDuXxPP",
        "outputId": "54dbe189-d761-4a4b-dd44-f6462310e6b6"
      },
      "execution_count": null,
      "outputs": [
        {
          "output_type": "stream",
          "name": "stdout",
          "text": [
            "pineapple\n"
          ]
        }
      ]
    },
    {
      "cell_type": "code",
      "source": [
        "fruit =[\"Apple\",\"Guava\",\"mango\",\"pineapple\",\"Orange\"]\n",
        "\n",
        "print (fruit)\n",
        "print (fruit[0])\n",
        "print (fruit[1])\n",
        "print (fruit[-1])"
      ],
      "metadata": {
        "colab": {
          "base_uri": "https://localhost:8080/"
        },
        "id": "qWsoTQ6wZlhG",
        "outputId": "96d8e095-87f0-4003-8af8-d5294718c654"
      },
      "execution_count": null,
      "outputs": [
        {
          "output_type": "stream",
          "name": "stdout",
          "text": [
            "['Apple', 'Guava', 'mango', 'pineapple', 'Orange']\n",
            "Apple\n",
            "Guava\n",
            "Orange\n"
          ]
        }
      ]
    },
    {
      "cell_type": "code",
      "source": [
        "fruit =[\"Apple\",\"Guava\",\"mango\",\"pineapple\",\"Orange\"]\n",
        "\n",
        "print (fruit)\n",
        "print (fruit[0:2])\n",
        "print (fruit[:2])\n",
        "print (fruit[1:2])"
      ],
      "metadata": {
        "colab": {
          "base_uri": "https://localhost:8080/"
        },
        "id": "65iKa8BkX91w",
        "outputId": "c67a0e5d-8536-47dd-c795-5167204e520f"
      },
      "execution_count": null,
      "outputs": [
        {
          "output_type": "stream",
          "name": "stdout",
          "text": [
            "['Apple', 'Guava', 'mango', 'pineapple', 'Orange']\n",
            "['Apple', 'Guava']\n",
            "['Apple', 'Guava']\n",
            "['Guava']\n"
          ]
        }
      ]
    },
    {
      "cell_type": "code",
      "source": [
        "fruit =[\"Apple\",\"Guava\",\"mango\",\"pineapple\",\"Orange\"]\n",
        "\n",
        "print (fruit)\n",
        "print (fruit[0:2])\n",
        "print (fruit[:2])\n",
        "print (fruit[1:2])\n",
        "print (fruit[1:])"
      ],
      "metadata": {
        "colab": {
          "base_uri": "https://localhost:8080/"
        },
        "id": "Q6d0gWC0ZbtB",
        "outputId": "85336147-740a-436e-fb91-f7b26d3755bf"
      },
      "execution_count": null,
      "outputs": [
        {
          "output_type": "stream",
          "name": "stdout",
          "text": [
            "['Apple', 'Guava', 'mango', 'pineapple', 'Orange']\n",
            "['Apple', 'Guava']\n",
            "['Apple', 'Guava']\n",
            "['Guava']\n",
            "['Guava', 'mango', 'pineapple', 'Orange']\n"
          ]
        }
      ]
    },
    {
      "cell_type": "code",
      "source": [
        "fruit =[\"Apple\",\"Guava\",\"mango\",\"pineapple\",\"Orange\"]\n",
        "\n",
        "print (fruit[-1])\n",
        "print (fruit[0::3])\n",
        "print (fruit[1::4])\n",
        "print (fruit[1:4])"
      ],
      "metadata": {
        "colab": {
          "base_uri": "https://localhost:8080/"
        },
        "id": "PE45yHkoZjug",
        "outputId": "6ea9de3f-9e5c-47e4-9da1-9fccb1c27b13"
      },
      "execution_count": null,
      "outputs": [
        {
          "output_type": "stream",
          "name": "stdout",
          "text": [
            "Orange\n",
            "['Apple', 'pineapple']\n",
            "['Guava']\n",
            "['Guava', 'mango', 'pineapple']\n"
          ]
        }
      ]
    },
    {
      "cell_type": "code",
      "source": [
        "fruit =[\"Apple\",\"Guava\",\"mango\",\"pineapple\",\"Orange\"]\n",
        "\n",
        "print (fruit)\n",
        "fruit.append(\"muskmelon\")\n",
        "print (fruit)"
      ],
      "metadata": {
        "id": "ZDsQjZXlavgP",
        "colab": {
          "base_uri": "https://localhost:8080/"
        },
        "outputId": "d8e2b7af-2d5f-485e-bcd7-e8d714f740fc"
      },
      "execution_count": null,
      "outputs": [
        {
          "output_type": "stream",
          "name": "stdout",
          "text": [
            "['Apple', 'Guava', 'mango', 'pineapple', 'Orange']\n",
            "['Apple', 'Guava', 'mango', 'pineapple', 'Orange', 'muskmelon']\n"
          ]
        }
      ]
    },
    {
      "cell_type": "code",
      "source": [
        "fruit =[\"Apple\",\"Guava\",\"mango\",\"pineapple\",\"Orange\"]\n",
        "\n",
        "fruit.append(\"muskmelon\")\n",
        "print (fruit)\n",
        "print (fruit[-1])"
      ],
      "metadata": {
        "colab": {
          "base_uri": "https://localhost:8080/"
        },
        "id": "yTspyWaQdcFg",
        "outputId": "9da2c05a-adf5-4ec6-e129-39bb5eacd7f2"
      },
      "execution_count": null,
      "outputs": [
        {
          "output_type": "stream",
          "name": "stdout",
          "text": [
            "['Apple', 'Guava', 'mango', 'pineapple', 'Orange', 'muskmelon']\n",
            "muskmelon\n"
          ]
        }
      ]
    },
    {
      "cell_type": "code",
      "source": [
        "fruit =[\"Apple\",\"Guava\",\"mango\",\"pineapple\",\"Orange\"]\n",
        "\n",
        "\n",
        "print (fruit)\n",
        "fruit.insert(2,\"muskmelon\")\n",
        "print (fruit)"
      ],
      "metadata": {
        "colab": {
          "base_uri": "https://localhost:8080/"
        },
        "id": "ZGc-hrs7erG7",
        "outputId": "0adb9554-9b80-4114-bafb-c779c1a785d1"
      },
      "execution_count": null,
      "outputs": [
        {
          "output_type": "stream",
          "name": "stdout",
          "text": [
            "['Apple', 'Guava', 'mango', 'pineapple', 'Orange']\n",
            "['Apple', 'Guava', 'muskmelon', 'mango', 'pineapple', 'Orange']\n"
          ]
        }
      ]
    },
    {
      "cell_type": "code",
      "source": [
        "fruit =[\"Apple\",\"Guava\",\"mango\",\"pineapple\",\"Orange\"]\n",
        "\n",
        "\n",
        "print (fruit)\n",
        "fruit.insert(3,\"muskmelon\")\n",
        "print (fruit)"
      ],
      "metadata": {
        "colab": {
          "base_uri": "https://localhost:8080/"
        },
        "id": "qF1YVTdjfuIC",
        "outputId": "e51407a0-7873-4359-b5dd-e325a6302697"
      },
      "execution_count": null,
      "outputs": [
        {
          "output_type": "stream",
          "name": "stdout",
          "text": [
            "['Apple', 'Guava', 'mango', 'pineapple', 'Orange']\n",
            "['Apple', 'Guava', 'mango', 'muskmelon', 'pineapple', 'Orange']\n"
          ]
        }
      ]
    },
    {
      "cell_type": "code",
      "source": [
        "fruit =[\"Apple\",\"Guava\",\"mango\",\"pineapple\",\"Orange\"]\n",
        "\n",
        "\n",
        "print (fruit)\n",
        "fruit.pop(2)\n",
        "print (fruit)"
      ],
      "metadata": {
        "colab": {
          "base_uri": "https://localhost:8080/"
        },
        "id": "T7oqD5LBf0Bx",
        "outputId": "7f27fa5b-38bc-4a75-c799-f83b263eb4c8"
      },
      "execution_count": null,
      "outputs": [
        {
          "output_type": "stream",
          "name": "stdout",
          "text": [
            "['Apple', 'Guava', 'mango', 'pineapple', 'Orange']\n",
            "['Apple', 'Guava', 'pineapple', 'Orange']\n"
          ]
        }
      ]
    },
    {
      "cell_type": "code",
      "source": [
        "fruit =[\"Apple\",\"Guava\",\"mango\",\"pineapple\",\"Orange\"]\n",
        "\n",
        "\n",
        "print (fruit)\n",
        "fruit.clear()\n",
        "print (fruit)"
      ],
      "metadata": {
        "colab": {
          "base_uri": "https://localhost:8080/"
        },
        "id": "Tx3PGYMFgDSx",
        "outputId": "b0d6ae8c-f603-49cf-94c7-2277eaecc20b"
      },
      "execution_count": null,
      "outputs": [
        {
          "output_type": "stream",
          "name": "stdout",
          "text": [
            "['Apple', 'Guava', 'mango', 'pineapple', 'Orange']\n",
            "[]\n"
          ]
        }
      ]
    },
    {
      "cell_type": "code",
      "source": [
        "fruit =[\"Apple\",\"Guava\",\"mango\",\"pineapple\",\"Orange\"]\n",
        "\n",
        "\n",
        "print (fruit)\n",
        "fruit.insert(2,\"muskmelon\")\n",
        "print (fruit)"
      ],
      "metadata": {
        "id": "EgFnfMwbgf_R"
      },
      "execution_count": null,
      "outputs": []
    },
    {
      "cell_type": "code",
      "source": [
        "fruit =[\"Apple\",\"Guava\",\"mango\",\"pineapple\",\"Orange\"]\n",
        "\n",
        "\n",
        "print (fruit)\n",
        "fruit.pop(2,)\n",
        "print (fruit)"
      ],
      "metadata": {
        "colab": {
          "base_uri": "https://localhost:8080/"
        },
        "id": "ZTtDZODqgwe7",
        "outputId": "e8100695-9b10-48b5-c45b-5fbf4f211dfa"
      },
      "execution_count": 28,
      "outputs": [
        {
          "output_type": "stream",
          "name": "stdout",
          "text": [
            "['Apple', 'Guava', 'mango', 'pineapple', 'Orange']\n",
            "['Apple', 'Guava', 'pineapple', 'Orange']\n"
          ]
        }
      ]
    },
    {
      "cell_type": "code",
      "source": [
        "fruit =[\"Apple\",\"Guava\",\"mango\",\"pineapple\",\"Orange\"]\n",
        "\n",
        "\n",
        "print (fruit)\n",
        "fruit.clear()\n",
        "print (fruit)"
      ],
      "metadata": {
        "colab": {
          "base_uri": "https://localhost:8080/"
        },
        "id": "4vslYCgeg4aS",
        "outputId": "bed5c2bb-eba3-480e-b5bb-ea85dd8e4e28"
      },
      "execution_count": 30,
      "outputs": [
        {
          "output_type": "stream",
          "name": "stdout",
          "text": [
            "['Apple', 'Guava', 'mango', 'pineapple', 'Orange']\n",
            "[]\n"
          ]
        }
      ]
    },
    {
      "cell_type": "code",
      "source": [
        "fruit =[\"Apple\",\"Guava\",\"mango\",\"pineapple\",\"Orange\"]\n",
        "\n",
        "\n",
        "print (fruit)\n",
        "fruit.remove(\"mango\")\n",
        "print (fruit)"
      ],
      "metadata": {
        "colab": {
          "base_uri": "https://localhost:8080/"
        },
        "id": "tyYCx9cnhErx",
        "outputId": "31de517c-13aa-4641-e283-601fbdce8f5f"
      },
      "execution_count": 34,
      "outputs": [
        {
          "output_type": "stream",
          "name": "stdout",
          "text": [
            "['Apple', 'Guava', 'mango', 'pineapple', 'Orange']\n",
            "['Apple', 'Guava', 'pineapple', 'Orange']\n"
          ]
        }
      ]
    },
    {
      "cell_type": "code",
      "source": [
        "#number sort\n",
        "num=[\"1\",\"5\",\"7\",\"4\",\"3\"]\n",
        "\n",
        "print(num)\n",
        "num.sort()\n",
        "print(num)"
      ],
      "metadata": {
        "colab": {
          "base_uri": "https://localhost:8080/"
        },
        "id": "5RoeznYkh3Py",
        "outputId": "2b7679d5-404c-4c10-d3ce-49bf673ff212"
      },
      "execution_count": 35,
      "outputs": [
        {
          "output_type": "stream",
          "name": "stdout",
          "text": [
            "['1', '5', '7', '4', '3']\n",
            "['1', '3', '4', '5', '7']\n"
          ]
        }
      ]
    },
    {
      "cell_type": "code",
      "source": [
        "#number sort\n",
        "num=[\"1\",\"5\",\"7\",\"4\",\"3\"]\n",
        "\n",
        "print(num)\n",
        "num.sort(reverse=True)\n",
        "print(num)"
      ],
      "metadata": {
        "colab": {
          "base_uri": "https://localhost:8080/"
        },
        "id": "vOlPZ2VEicM6",
        "outputId": "33bed4e7-1878-4367-de4e-26f5599b46c0"
      },
      "execution_count": 40,
      "outputs": [
        {
          "output_type": "stream",
          "name": "stdout",
          "text": [
            "['1', '5', '7', '4', '3']\n",
            "['7', '5', '4', '3', '1']\n"
          ]
        }
      ]
    },
    {
      "cell_type": "code",
      "source": [
        "#alpha\n",
        "fruit =[\"Apple\",\"Guava\",\"mango\",\"pineapple\",\"Orange\"]\n",
        "\n",
        "\n",
        "print (fruit)\n",
        "fruit.sort()\n",
        "print (fruit)"
      ],
      "metadata": {
        "colab": {
          "base_uri": "https://localhost:8080/"
        },
        "id": "UMvLKI5wjFNy",
        "outputId": "e5eddf49-fbe7-4a62-d34f-1cd264110c12"
      },
      "execution_count": 42,
      "outputs": [
        {
          "output_type": "stream",
          "name": "stdout",
          "text": [
            "['Apple', 'Guava', 'mango', 'pineapple', 'Orange']\n",
            "['Apple', 'Guava', 'Orange', 'mango', 'pineapple']\n"
          ]
        }
      ]
    },
    {
      "cell_type": "code",
      "source": [
        "fruit =[\"Apple\",\"Guava\",\"mango\",\"pineapple\",\"Orange\"]\n",
        "\n",
        "\n",
        "print (fruit)\n",
        "fruit.reverse()\n",
        "print (fruit)"
      ],
      "metadata": {
        "colab": {
          "base_uri": "https://localhost:8080/"
        },
        "id": "kvcQcCQajrlb",
        "outputId": "02b9483c-7edd-470d-a49d-89c7ea089e6a"
      },
      "execution_count": 43,
      "outputs": [
        {
          "output_type": "stream",
          "name": "stdout",
          "text": [
            "['Apple', 'Guava', 'mango', 'pineapple', 'Orange']\n",
            "['Orange', 'pineapple', 'mango', 'Guava', 'Apple']\n"
          ]
        }
      ]
    },
    {
      "cell_type": "code",
      "source": [
        "fruit =[\"Apple\",\"Guava\",\"mango\",\"pineapple\",\"Orange\"]\n",
        "\n",
        "\n",
        "print (fruit)\n",
        "fruit.copy()\n",
        "print (fruit)"
      ],
      "metadata": {
        "colab": {
          "base_uri": "https://localhost:8080/"
        },
        "id": "CAchNqEUkMIj",
        "outputId": "4969efd8-4c6c-409f-9001-4ace1a35e523"
      },
      "execution_count": 49,
      "outputs": [
        {
          "output_type": "stream",
          "name": "stdout",
          "text": [
            "['Apple', 'Guava', 'mango', 'pineapple', 'Orange']\n",
            "['Apple', 'Guava', 'mango', 'pineapple', 'Orange']\n"
          ]
        }
      ]
    },
    {
      "cell_type": "code",
      "source": [
        ""
      ],
      "metadata": {
        "id": "OmbF_xSAkteL"
      },
      "execution_count": null,
      "outputs": []
    }
  ]
}