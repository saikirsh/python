{
  "nbformat": 4,
  "nbformat_minor": 0,
  "metadata": {
    "colab": {
      "name": "Module I.ipynb",
      "provenance": [],
      "authorship_tag": "ABX9TyMzUkTzg/frAjkfMuWV1wED",
      "include_colab_link": true
    },
    "kernelspec": {
      "name": "python3",
      "display_name": "Python 3"
    },
    "language_info": {
      "name": "python"
    }
  },
  "cells": [
    {
      "cell_type": "markdown",
      "metadata": {
        "id": "view-in-github",
        "colab_type": "text"
      },
      "source": [
        "<a href=\"https://colab.research.google.com/github/saikirsh/python/blob/main/Module_I.ipynb\" target=\"_parent\"><img src=\"https://colab.research.google.com/assets/colab-badge.svg\" alt=\"Open In Colab\"/></a>"
      ]
    },
    {
      "cell_type": "markdown",
      "source": [
        "Accept input from user and store it in variable and print the value"
      ],
      "metadata": {
        "id": "20njoN0dSAmJ"
      }
    },
    {
      "cell_type": "code",
      "execution_count": null,
      "metadata": {
        "colab": {
          "base_uri": "https://localhost:8080/"
        },
        "id": "jWzqJBeaRVJT",
        "outputId": "8072f929-4720-439e-ab3f-5498c464a48b"
      },
      "outputs": [
        {
          "output_type": "stream",
          "name": "stdout",
          "text": [
            "10\n",
            "10\n"
          ]
        }
      ],
      "source": [
        "x=int(input())\n",
        "print(x)"
      ]
    },
    {
      "cell_type": "markdown",
      "source": [
        "Use of print statements and use of (.format )for printing different data types\n"
      ],
      "metadata": {
        "id": "E8nX5353WGlp"
      }
    },
    {
      "cell_type": "code",
      "source": [
        "a=1\n",
        "b=3.4\n",
        "c=1j\n",
        "print(type(a))\n",
        "print(type(b))\n",
        "print(type(c))"
      ],
      "metadata": {
        "colab": {
          "base_uri": "https://localhost:8080/"
        },
        "id": "n9VcqcWBWLTh",
        "outputId": "c9f00d58-53ce-4b55-f0ce-4ef798202361"
      },
      "execution_count": null,
      "outputs": [
        {
          "output_type": "stream",
          "name": "stdout",
          "text": [
            "<class 'int'>\n",
            "<class 'float'>\n",
            "<class 'complex'>\n"
          ]
        }
      ]
    },
    {
      "cell_type": "markdown",
      "source": [
        "Take 2 numbers as user input and add, multiply, divide, subtract, remainder and print\n",
        "the output (Same operations on floating point input as well)"
      ],
      "metadata": {
        "id": "viketG2dSp7p"
      }
    },
    {
      "cell_type": "code",
      "source": [
        "x=int(input())\n",
        "y=float(input())\n",
        "print(\"add\",x+y)\n",
        "print(\"multi\",x*y)\n",
        "print(\"sub\",x-y)\n",
        "print(\"divi\",x/y)"
      ],
      "metadata": {
        "colab": {
          "base_uri": "https://localhost:8080/"
        },
        "id": "vfQeq9MjScKP",
        "outputId": "5e3c540d-a50b-46fc-f57f-7db4c02bf0f6"
      },
      "execution_count": null,
      "outputs": [
        {
          "output_type": "stream",
          "name": "stdout",
          "text": [
            "4\n",
            "10\n",
            "add 14.0\n",
            "multi 40.0\n",
            "sub -6.0\n",
            "divi 0.4\n"
          ]
        }
      ]
    },
    {
      "cell_type": "markdown",
      "source": [
        "Conversion of one unit to another (such as hours to minutes, miles to km and etc)"
      ],
      "metadata": {
        "id": "henGWXwkTs8o"
      }
    },
    {
      "cell_type": "code",
      "source": [
        "x=float(input())\n",
        "print(x*60) # hours to min \n",
        "print(x*1.60934) # miles to km \n"
      ],
      "metadata": {
        "colab": {
          "base_uri": "https://localhost:8080/"
        },
        "id": "oalRfgNzTzcg",
        "outputId": "ad109633-a99a-4202-e10d-259845913927"
      },
      "execution_count": null,
      "outputs": [
        {
          "output_type": "stream",
          "name": "stdout",
          "text": [
            "40\n",
            "2400.0\n",
            "64.3736\n"
          ]
        }
      ]
    },
    {
      "cell_type": "markdown",
      "source": [
        " Usage of mathematical functions in python like math.ceil, floor, fabs, fmod, trunc,\n",
        "pow, sqrt etc."
      ],
      "metadata": {
        "id": "ZOjYcKmmVT-Z"
      }
    },
    {
      "cell_type": "code",
      "source": [
        "import math\n",
        "\n",
        "x=2.365\n",
        "print(math.ceil(x))\n",
        "y=2.3698\n",
        "print(math.floor(y))\n",
        "z=2.516\n",
        "print(math.fabs(z))\n",
        "a=-5.693\n",
        "print(math.copysign(a,z))\n"
      ],
      "metadata": {
        "colab": {
          "base_uri": "https://localhost:8080/"
        },
        "id": "W4sqBcgGVcRI",
        "outputId": "2a9dddc7-5ea7-43ac-a61c-c4e805881314"
      },
      "execution_count": null,
      "outputs": [
        {
          "output_type": "stream",
          "name": "stdout",
          "text": [
            "3\n",
            "2\n",
            "2.516\n",
            "5.693\n"
          ]
        }
      ]
    },
    {
      "cell_type": "markdown",
      "source": [
        "Building a mathematical calculator that can perform operations according to user input.\n",
        "Use decision making statement."
      ],
      "metadata": {
        "id": "RB6-nOm3aZRa"
      }
    },
    {
      "cell_type": "code",
      "source": [
        "\n",
        "def add(x, y):\n",
        "    return x + y\n",
        "\n",
        "def subtract(x, y):\n",
        "    return x - y\n",
        "\n",
        "\n",
        "def multiply(x, y):\n",
        "    return x * y\n",
        "\n",
        "def divide(x, y):\n",
        "    return x / y\n",
        "\n",
        "\n",
        "print(\"Select operation.\")\n",
        "print(\"1.Add\")\n",
        "print(\"2.Subtract\")\n",
        "print(\"3.Multiply\")\n",
        "print(\"4.Divide\")\n",
        "\n",
        "while True:\n",
        " \n",
        "    choice = input(\"Enter choice(1/2/3/4): \")\n",
        "\n",
        "   \n",
        "    if choice in ('1', '2', '3', '4'):\n",
        "        num1 = float(input(\"Enter first number: \"))\n",
        "        num2 = float(input(\"Enter second number: \"))\n",
        "\n",
        "        if choice == '1':\n",
        "            print(num1, \"+\", num2, \"=\", add(num1, num2))\n",
        "\n",
        "        elif choice == '2':\n",
        "            print(num1, \"-\", num2, \"=\", subtract(num1, num2))\n",
        "\n",
        "        elif choice == '3':\n",
        "            print(num1, \"*\", num2, \"=\", multiply(num1, num2))\n",
        "\n",
        "        elif choice == '4':\n",
        "            print(num1, \"/\", num2, \"=\", divide(num1, num2))\n",
        "        \n",
        " \n",
        "        next_calculation = input(\"Let's do next calculation? (yes/no): \")\n",
        "        if next_calculation == \"no\":\n",
        "          break\n",
        "    \n",
        "    else:\n",
        "        print(\"Invalid Input\")\n"
      ],
      "metadata": {
        "colab": {
          "base_uri": "https://localhost:8080/"
        },
        "id": "GXzGXkhDah5b",
        "outputId": "5fe79573-5e77-4ceb-9d66-34457651f110"
      },
      "execution_count": null,
      "outputs": [
        {
          "output_type": "stream",
          "name": "stdout",
          "text": [
            "Select operation.\n",
            "1.Add\n",
            "2.Subtract\n",
            "3.Multiply\n",
            "4.Divide\n",
            "Invalid Input\n",
            "3.0 - 4.0 = -1.0\n",
            "Enter choice(1/2/3/4): 1 \n",
            "Invalid Input\n"
          ]
        }
      ]
    }
  ]
}