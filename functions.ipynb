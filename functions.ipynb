{
  "nbformat": 4,
  "nbformat_minor": 0,
  "metadata": {
    "colab": {
      "name": "functions",
      "provenance": [],
      "authorship_tag": "ABX9TyO+WRoPAwJjcSx9NE0in9WP",
      "include_colab_link": true
    },
    "kernelspec": {
      "name": "python3",
      "display_name": "Python 3"
    },
    "language_info": {
      "name": "python"
    }
  },
  "cells": [
    {
      "cell_type": "markdown",
      "metadata": {
        "id": "view-in-github",
        "colab_type": "text"
      },
      "source": [
        "<a href=\"https://colab.research.google.com/github/saikirsh/python/blob/main/functions.ipynb\" target=\"_parent\"><img src=\"https://colab.research.google.com/assets/colab-badge.svg\" alt=\"Open In Colab\"/></a>"
      ]
    },
    {
      "cell_type": "markdown",
      "source": [
        "Creating a Function"
      ],
      "metadata": {
        "id": "dHjFsRDjOwgr"
      }
    },
    {
      "cell_type": "code",
      "source": [
        "#Calling a Function\n",
        "def x():\n",
        "  print(\"sai krishna\")\n",
        "\n",
        "x()"
      ],
      "metadata": {
        "colab": {
          "base_uri": "https://localhost:8080/"
        },
        "id": "ZvsNUb0rOXoD",
        "outputId": "12891aeb-2a8d-4577-c52e-6c727ba18f23"
      },
      "execution_count": null,
      "outputs": [
        {
          "output_type": "stream",
          "name": "stdout",
          "text": [
            "sai krishna\n"
          ]
        }
      ]
    },
    {
      "cell_type": "code",
      "source": [
        "#Arguments\n",
        "def x(fname):\n",
        "  print(fname + \" potluri\")\n",
        "\n",
        "x(\"sai\")\n",
        "x(\"krishna\")\n",
        "x(\"pradeep\")\n"
      ],
      "metadata": {
        "colab": {
          "base_uri": "https://localhost:8080/"
        },
        "id": "ChjbhSbUO28y",
        "outputId": "678b122f-d8b0-479d-bab0-9f6b4ed7f39b"
      },
      "execution_count": null,
      "outputs": [
        {
          "output_type": "stream",
          "name": "stdout",
          "text": [
            "sai potluri\n",
            "krishna potluri\n",
            "pradeep potluri\n"
          ]
        }
      ]
    },
    {
      "cell_type": "code",
      "source": [
        "#Number of Arguments\n",
        "#This function expects 2 arguments, and gets 2 arguments:\n",
        "def my_function(fname, lname):\n",
        "  print(fname + \" \" + lname)\n",
        "\n",
        "my_function(\"sai\", \"potluri\")"
      ],
      "metadata": {
        "colab": {
          "base_uri": "https://localhost:8080/"
        },
        "id": "VWCEMJTuPXp6",
        "outputId": "693d458c-90b9-42fd-8ddf-98cfed6a25d1"
      },
      "execution_count": null,
      "outputs": [
        {
          "output_type": "stream",
          "name": "stdout",
          "text": [
            "sai potluri\n"
          ]
        }
      ]
    },
    {
      "cell_type": "code",
      "source": [
        "#Arbitrary Arguments\n",
        "#*args\n",
        "def x(*students):\n",
        "  print(\"The wastefellow in the class \" + students[2])\n",
        "\n",
        "x(\"vivek\", \"sai\", \"praneeth\")\n"
      ],
      "metadata": {
        "colab": {
          "base_uri": "https://localhost:8080/"
        },
        "id": "nzlL1rB4QTz6",
        "outputId": "b7cb3caf-de3e-4c15-d02f-c86301a94dfe"
      },
      "execution_count": null,
      "outputs": [
        {
          "output_type": "stream",
          "name": "stdout",
          "text": [
            "The wastefellow in the class praneeth\n"
          ]
        }
      ]
    },
    {
      "cell_type": "code",
      "source": [
        "#Keyword Arguments\n",
        "def x(student1, student2, student3):\n",
        "  print(\"The good student is \" + student3)\n",
        "\n",
        "x(student1 = \"sai\", student2 = \"sheshu\",student3= \"praneeth\")\n"
      ],
      "metadata": {
        "colab": {
          "base_uri": "https://localhost:8080/"
        },
        "id": "VQALdZEKVoBS",
        "outputId": "4301e639-85ca-472c-d34e-1ab5a95995bb"
      },
      "execution_count": null,
      "outputs": [
        {
          "output_type": "stream",
          "name": "stdout",
          "text": [
            "The good student is praneeth\n"
          ]
        }
      ]
    },
    {
      "cell_type": "code",
      "source": [
        "#Arbitrary Keyword Arguments\n",
        "# **kwargs\n",
        "def x(**stu):\n",
        "  print(\"The wastefellow in the cls \" + stu[\"lname\"])\n",
        "x(fname = \"sai\", lname = \"praneeth\")"
      ],
      "metadata": {
        "colab": {
          "base_uri": "https://localhost:8080/"
        },
        "id": "7vrLH3wJWlYZ",
        "outputId": "fc6a9cc6-5f77-4a0e-d503-18219a4109fc"
      },
      "execution_count": null,
      "outputs": [
        {
          "output_type": "stream",
          "name": "stdout",
          "text": [
            "The wastefellow in the cls praneeth\n"
          ]
        }
      ]
    },
    {
      "cell_type": "code",
      "source": [
        "def x(**stu):\n",
        "  print(\"The Topper in the cls \" + stu[\"fname\"])\n",
        "x(fname = \"sai\", lname = \"praneeth\")"
      ],
      "metadata": {
        "colab": {
          "base_uri": "https://localhost:8080/"
        },
        "id": "bmPtc8enYFNK",
        "outputId": "ea2ba43a-6247-48d2-d9fe-c458a1d59ced"
      },
      "execution_count": null,
      "outputs": [
        {
          "output_type": "stream",
          "name": "stdout",
          "text": [
            "The Topper in the cls sai\n"
          ]
        }
      ]
    },
    {
      "cell_type": "code",
      "source": [
        "#Default Parameter Value\n",
        "def x(roomno = \"840\"):\n",
        "  print(\"My room no is \" + roomno)\n",
        "\n",
        "x(\"706\")\n",
        "x(\"707\")\n",
        "x()\n",
        "x(\"828\")\n",
        "x(\"638\")"
      ],
      "metadata": {
        "colab": {
          "base_uri": "https://localhost:8080/"
        },
        "id": "6cmRFZezZSop",
        "outputId": "611cab76-fbb0-4ecf-af20-4de163a69ce5"
      },
      "execution_count": null,
      "outputs": [
        {
          "output_type": "stream",
          "name": "stdout",
          "text": [
            "My room no is 706\n",
            "My room no is 707\n",
            "My room no is 840\n",
            "My room no is 828\n",
            "My room no is 638\n"
          ]
        }
      ]
    },
    {
      "cell_type": "code",
      "source": [
        "#Passing a List as an Argument\n",
        "def x(food):\n",
        "  for x in food:\n",
        "    print(x)\n",
        "\n",
        "Drinks = [\"pepsi\", \"spirit\", \"thumpsup\"]\n",
        "\n",
        "x(Drinks)"
      ],
      "metadata": {
        "colab": {
          "base_uri": "https://localhost:8080/"
        },
        "id": "rujqZxhYbM7_",
        "outputId": "b2ec9bfb-f304-4e9c-cc50-3069cb594b3c"
      },
      "execution_count": null,
      "outputs": [
        {
          "output_type": "stream",
          "name": "stdout",
          "text": [
            "pepsi\n",
            "spirit\n",
            "thumpsup\n"
          ]
        }
      ]
    },
    {
      "cell_type": "code",
      "source": [
        "#Return Values\n",
        "def x(Y):\n",
        "  return 10 + Y\n",
        "\n",
        "print(x(59))\n",
        "print(x(69))\n",
        "print(x(60))"
      ],
      "metadata": {
        "colab": {
          "base_uri": "https://localhost:8080/"
        },
        "id": "tINvAF7Gcqvn",
        "outputId": "a9ec32b5-16be-409c-c14d-2e55b9446572"
      },
      "execution_count": null,
      "outputs": [
        {
          "output_type": "stream",
          "name": "stdout",
          "text": [
            "69\n",
            "79\n",
            "70\n"
          ]
        }
      ]
    },
    {
      "cell_type": "code",
      "source": [
        "#The pass Statement\n",
        "def x():\n",
        "  pass\n"
      ],
      "metadata": {
        "id": "EdIo3GPzdB6v"
      },
      "execution_count": null,
      "outputs": []
    },
    {
      "cell_type": "code",
      "source": [
        "age = 20\n",
        "\n",
        "if age>=18:\n",
        "        status=\"Eligible\"\n",
        "else:\n",
        "    status=\"Not Eligible\"\n",
        "\n",
        "print(\"You are \",status,\" for Vote.\")"
      ],
      "metadata": {
        "id": "xnjk3lYZeDFL",
        "colab": {
          "base_uri": "https://localhost:8080/"
        },
        "outputId": "758f26a1-e7f6-4bef-d94d-797f8dee7853"
      },
      "execution_count": 16,
      "outputs": [
        {
          "output_type": "stream",
          "name": "stdout",
          "text": [
            "You are  Eligible  for Vote.\n"
          ]
        }
      ]
    },
    {
      "cell_type": "code",
      "source": [
        ""
      ],
      "metadata": {
        "id": "VgTRDfNAiL4O"
      },
      "execution_count": null,
      "outputs": []
    }
  ]
}