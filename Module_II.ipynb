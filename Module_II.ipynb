{
  "nbformat": 4,
  "nbformat_minor": 0,
  "metadata": {
    "colab": {
      "name": "Module II",
      "provenance": [],
      "authorship_tag": "ABX9TyNHBThJu/NeRf55Xtg4GzOd",
      "include_colab_link": true
    },
    "kernelspec": {
      "name": "python3",
      "display_name": "Python 3"
    },
    "language_info": {
      "name": "python"
    }
  },
  "cells": [
    {
      "cell_type": "markdown",
      "metadata": {
        "id": "view-in-github",
        "colab_type": "text"
      },
      "source": [
        "<a href=\"https://colab.research.google.com/github/saikirsh/python/blob/main/Module_II.ipynb\" target=\"_parent\"><img src=\"https://colab.research.google.com/assets/colab-badge.svg\" alt=\"Open In Colab\"/></a>"
      ]
    },
    {
      "cell_type": "markdown",
      "source": [
        "1.Create a function which accepts two inputs from the user and compute n\n",
        "Cr\n"
      ],
      "metadata": {
        "id": "SCQ-EJLkpCmG"
      }
    },
    {
      "cell_type": "code",
      "source": [
        "def nCr(n, r):\n",
        " \n",
        "    return (fact(n) / (fact(r)\n",
        "                * fact(n - r)))\n",
        " \n",
        "def fact(n):\n",
        "    res = 1\n",
        "    for i in range(2, n+1):\n",
        "        res = res * i\n",
        "    return res\n",
        " \n",
        "n = 7\n",
        "r = 2\n",
        "print(int(nCr(n, r)))"
      ],
      "metadata": {
        "colab": {
          "base_uri": "https://localhost:8080/"
        },
        "id": "Mxcn4l9YqJTq",
        "outputId": "eeab1362-e04d-438e-8bcd-18378177990a"
      },
      "execution_count": 1,
      "outputs": [
        {
          "output_type": "stream",
          "name": "stdout",
          "text": [
            "21\n"
          ]
        }
      ]
    },
    {
      "cell_type": "code",
      "source": [
        "def nCr(n, r):\n",
        " \n",
        "    return (fact(n) / (fact(r)\n",
        "                * fact(n - r)))\n",
        "n=int(input(\"\"))\n",
        "r=int(input(\"\"))\n",
        "def fact(n):\n",
        "    res = 1\n",
        "    for i in range(2, n+1):\n",
        "        res = res * i\n",
        "    return res\n",
        "print(int(nCr(n, r)))"
      ],
      "metadata": {
        "colab": {
          "base_uri": "https://localhost:8080/"
        },
        "id": "ffQagCRwsBdH",
        "outputId": "3612c432-f304-4aa7-b999-b3f50971923d"
      },
      "execution_count": 2,
      "outputs": [
        {
          "output_type": "stream",
          "name": "stdout",
          "text": [
            "7\n",
            "2\n",
            "21\n"
          ]
        }
      ]
    },
    {
      "cell_type": "markdown",
      "source": [
        "2.Program to print a specified list after removing the 0th, 4th and 5th elements.\n",
        "Sample List : ['Red', 'Green', 'White', 'Black', 'Pink', 'Yellow']\n",
        "Expected Output : ['Green', 'White', 'Black']"
      ],
      "metadata": {
        "id": "BQlj0yQksZ2O"
      }
    },
    {
      "cell_type": "code",
      "source": [
        "x=['Red', 'Green', 'White', 'Black', 'Pink', 'Yellow']\n",
        "x.pop(0)\n",
        "x.pop(3)\n",
        "x.pop(3)\n",
        "print(x)"
      ],
      "metadata": {
        "colab": {
          "base_uri": "https://localhost:8080/"
        },
        "id": "gEanzf38skZ9",
        "outputId": "20c32aa0-b584-4d46-fb4d-d1e4d643adb8"
      },
      "execution_count": null,
      "outputs": [
        {
          "output_type": "stream",
          "name": "stdout",
          "text": [
            "['Green', 'White', 'Black']\n"
          ]
        }
      ]
    },
    {
      "cell_type": "markdown",
      "source": [
        "3.Program to get the difference between the two lists"
      ],
      "metadata": {
        "id": "FBiHI-DzxNLN"
      }
    },
    {
      "cell_type": "code",
      "source": [
        "x=[\"sai\",\"blue\",\"vivek\"]\n",
        "y=[\"black\",\"white\",\"blue\"]\n",
        "difxandy=list(set(x)-set(y))\n",
        "print(difxandy)"
      ],
      "metadata": {
        "colab": {
          "base_uri": "https://localhost:8080/"
        },
        "id": "VzfIa9AkyAQ1",
        "outputId": "0be6ea02-e1db-462c-8121-25442b618992"
      },
      "execution_count": 5,
      "outputs": [
        {
          "output_type": "stream",
          "name": "stdout",
          "text": [
            "['vivek', 'sai']\n"
          ]
        }
      ]
    },
    {
      "cell_type": "markdown",
      "source": [
        "4.Program to find the second smallest number and second largest number in a list"
      ],
      "metadata": {
        "id": "OeIOqAg-0cmh"
      }
    },
    {
      "cell_type": "code",
      "source": [
        "def find_len(x):\n",
        "    length = len(x)\n",
        "    x.sort()\n",
        "    print(x)\n",
        "    print(\"Second Smallest element is:\", x[1])\n",
        "    print(\"Second Largest element is:\", x[-2])\n",
        "x=[10, 54, 1, 49, 37, 17, 8, 5, 7]\n",
        "Largest = find_len(x)"
      ],
      "metadata": {
        "colab": {
          "base_uri": "https://localhost:8080/"
        },
        "id": "clIDard-0aS6",
        "outputId": "0c4a1e1f-6be7-4b76-f660-0901a2e81ab5"
      },
      "execution_count": 25,
      "outputs": [
        {
          "output_type": "stream",
          "name": "stdout",
          "text": [
            "[1, 5, 7, 8, 10, 17, 37, 49, 54]\n",
            "Second Smallest element is: 5\n",
            "Second Largest element is: 49\n"
          ]
        }
      ]
    },
    {
      "cell_type": "markdown",
      "source": [
        "5.Given a list of numbers of list, write a Python program to create a list of tuples\n",
        "having first element as the number and second element as the square of the\n",
        "number."
      ],
      "metadata": {
        "id": "PeMAcAX23c4o"
      }
    },
    {
      "cell_type": "code",
      "source": [
        "x = [5,7,8,9,13,17]\n",
        "y = [(num, pow(num, 2)) for num in x]\n",
        "print(y)"
      ],
      "metadata": {
        "colab": {
          "base_uri": "https://localhost:8080/"
        },
        "id": "JIp1VFY26O33",
        "outputId": "4c71a2f6-865f-4773-a5b9-e6c8eb698333"
      },
      "execution_count": 16,
      "outputs": [
        {
          "output_type": "stream",
          "name": "stdout",
          "text": [
            "[(5, 25), (7, 49), (8, 64), (9, 81), (13, 169), (17, 289)]\n"
          ]
        }
      ]
    },
    {
      "cell_type": "markdown",
      "source": [
        "6.Given list of tuples, remove all the tuples with length K.\n",
        "Input : test_list = [(4, 5), (4, ), (8, 6, 7), (1, ), (3, 4, 6, 7)], K = 2\n",
        "Output : [(4, ), (8, 6, 7), (1, ), (3, 4, 6, 7)]\n",
        "Explanation : (4, 5) of len = 2 is removed."
      ],
      "metadata": {
        "id": "h_BpD9s97ALZ"
      }
    },
    {
      "cell_type": "code",
      "source": [
        "test_list = [(4, 5), (4, ), (8, 6, 7), (1, ), (3, 4, 6, 7)]\n",
        "K = 2\n",
        "print(\"x : \" + str(test_list))\n",
        "res = [ele for ele in test_list if len(ele) != K]\n",
        "print(\"output : \" + str(res))"
      ],
      "metadata": {
        "colab": {
          "base_uri": "https://localhost:8080/"
        },
        "id": "rVQD4SGeAriv",
        "outputId": "c91c1cc1-feec-462e-9f30-14f8c5d243d2"
      },
      "execution_count": 26,
      "outputs": [
        {
          "output_type": "stream",
          "name": "stdout",
          "text": [
            "x : [(4, 5), (4,), (8, 6, 7), (1,), (3, 4, 6, 7)]\n",
            "output : [(4,), (8, 6, 7), (1,), (3, 4, 6, 7)]\n"
          ]
        }
      ]
    },
    {
      "cell_type": "markdown",
      "source": [
        "7.Program to remove a key from a dictionary."
      ],
      "metadata": {
        "id": "hxn9yB4_BaDg"
      }
    },
    {
      "cell_type": "code",
      "source": [
        "x = {'sai':18,'praneeth':19,'sheshu':17,'vivek':18}\n",
        "print(x)\n",
        "if 'sai' in x: \n",
        "    del x['sai']\n",
        "print(x)"
      ],
      "metadata": {
        "colab": {
          "base_uri": "https://localhost:8080/"
        },
        "id": "jL_w6R7ACc9W",
        "outputId": "4c5cd1ef-b3a5-4323-cafb-517f176857f8"
      },
      "execution_count": 32,
      "outputs": [
        {
          "output_type": "stream",
          "name": "stdout",
          "text": [
            "{'sai': 18, 'praneeth': 19, 'sheshu': 17}\n",
            "{'praneeth': 19, 'sheshu': 17}\n"
          ]
        }
      ]
    }
  ]
}