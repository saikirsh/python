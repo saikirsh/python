{
  "nbformat": 4,
  "nbformat_minor": 0,
  "metadata": {
    "colab": {
      "name": "Module II",
      "provenance": [],
      "authorship_tag": "ABX9TyOcMCWbAnwc5hr6+AJ+rR9N",
      "include_colab_link": true
    },
    "kernelspec": {
      "name": "python3",
      "display_name": "Python 3"
    },
    "language_info": {
      "name": "python"
    }
  },
  "cells": [
    {
      "cell_type": "markdown",
      "metadata": {
        "id": "view-in-github",
        "colab_type": "text"
      },
      "source": [
        "<a href=\"https://colab.research.google.com/github/saikirsh/python/blob/main/Module_II.ipynb\" target=\"_parent\"><img src=\"https://colab.research.google.com/assets/colab-badge.svg\" alt=\"Open In Colab\"/></a>"
      ]
    },
    {
      "cell_type": "markdown",
      "source": [
        "1.Create a function which accepts two inputs from the user and compute n\n",
        "Cr\n"
      ],
      "metadata": {
        "id": "SCQ-EJLkpCmG"
      }
    },
    {
      "cell_type": "code",
      "source": [
        "def nCr(n, r):\n",
        " \n",
        "    return (fact(n) / (fact(r)\n",
        "                * fact(n - r)))\n",
        " \n",
        "def fact(n):\n",
        "    res = 1\n",
        "    for i in range(2, n+1):\n",
        "        res = res * i\n",
        "    return res\n",
        " \n",
        "n = 7\n",
        "r = 3\n",
        "print(int(nCr(n, r)))"
      ],
      "metadata": {
        "colab": {
          "base_uri": "https://localhost:8080/"
        },
        "id": "Mxcn4l9YqJTq",
        "outputId": "685d3762-a294-4930-9c43-ed8058967b43"
      },
      "execution_count": 4,
      "outputs": [
        {
          "output_type": "stream",
          "name": "stdout",
          "text": [
            "35\n"
          ]
        }
      ]
    },
    {
      "cell_type": "code",
      "source": [
        "def nCr(n, r):\n",
        " \n",
        "    return (fact(n) / (fact(r)\n",
        "                * fact(n - r)))\n",
        "n=int(input(\"\"))\n",
        "r=int(input(\"\"))\n",
        "def fact(n):\n",
        "    res = 1\n",
        "    for i in range(2, n+1):\n",
        "        res = res * i\n",
        "    return res\n",
        "print(int(nCr(n, r)))"
      ],
      "metadata": {
        "colab": {
          "base_uri": "https://localhost:8080/"
        },
        "id": "ffQagCRwsBdH",
        "outputId": "329ac241-82e9-4264-8178-212eb2a9839b"
      },
      "execution_count": 6,
      "outputs": [
        {
          "output_type": "stream",
          "name": "stdout",
          "text": [
            "7\n",
            "3\n",
            "35\n"
          ]
        }
      ]
    },
    {
      "cell_type": "markdown",
      "source": [
        "2.Program to print a specified list after removing the 0th, 4th and 5th elements.\n",
        "Sample List : ['Red', 'Green', 'White', 'Black', 'Pink', 'Yellow']\n",
        "Expected Output : ['Green', 'White', 'Black']"
      ],
      "metadata": {
        "id": "BQlj0yQksZ2O"
      }
    },
    {
      "cell_type": "code",
      "source": [
        "x=['Red', 'Green', 'White', 'Black', 'Pink', 'Yellow']\n",
        "x.pop(0)\n",
        "x.pop(3)\n",
        "x.pop(3)\n",
        "print(x)"
      ],
      "metadata": {
        "colab": {
          "base_uri": "https://localhost:8080/"
        },
        "id": "gEanzf38skZ9",
        "outputId": "20c32aa0-b584-4d46-fb4d-d1e4d643adb8"
      },
      "execution_count": 8,
      "outputs": [
        {
          "output_type": "stream",
          "name": "stdout",
          "text": [
            "['Green', 'White', 'Black']\n"
          ]
        }
      ]
    },
    {
      "cell_type": "markdown",
      "source": [
        "3.Program to get the difference between the two lists"
      ],
      "metadata": {
        "id": "FBiHI-DzxNLN"
      }
    },
    {
      "cell_type": "code",
      "source": [
        "x=[\"sai\",\"blue\",\"vivek\"]\n",
        "y=[\"black\",\"white\",\"blue\"]\n",
        "difxandy=list(set(x)-set(y))\n",
        "print(difxandy)"
      ],
      "metadata": {
        "colab": {
          "base_uri": "https://localhost:8080/"
        },
        "id": "VzfIa9AkyAQ1",
        "outputId": "13232733-fd72-4d8a-cbe2-3e37d06d460b"
      },
      "execution_count": 11,
      "outputs": [
        {
          "output_type": "stream",
          "name": "stdout",
          "text": [
            "['sai', 'vivek']\n"
          ]
        }
      ]
    }
  ]
}