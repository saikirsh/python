{
  "nbformat": 4,
  "nbformat_minor": 0,
  "metadata": {
    "colab": {
      "name": "pratice.ipynb",
      "provenance": [],
      "authorship_tag": "ABX9TyN8xI5z1mdfTIvsNz93ASvg",
      "include_colab_link": true
    },
    "kernelspec": {
      "name": "python3",
      "display_name": "Python 3"
    },
    "language_info": {
      "name": "python"
    }
  },
  "cells": [
    {
      "cell_type": "markdown",
      "metadata": {
        "id": "view-in-github",
        "colab_type": "text"
      },
      "source": [
        "<a href=\"https://colab.research.google.com/github/saikirsh/python/blob/main/pratice.ipynb\" target=\"_parent\"><img src=\"https://colab.research.google.com/assets/colab-badge.svg\" alt=\"Open In Colab\"/></a>"
      ]
    },
    {
      "cell_type": "code",
      "execution_count": 1,
      "metadata": {
        "colab": {
          "base_uri": "https://localhost:8080/"
        },
        "id": "v3jek0r4hY_W",
        "outputId": "9336c14f-3c60-4116-e869-2cdec21f38b5"
      },
      "outputs": [
        {
          "output_type": "stream",
          "name": "stdout",
          "text": [
            "sai\n"
          ]
        }
      ],
      "source": [
        "# variable\n",
        "x=\"sai\"\n",
        "print(x)"
      ]
    },
    {
      "cell_type": "code",
      "source": [
        "# Many Values to Multiple Variables\n",
        "print(x)\n",
        "x,y,z=\"sai\",\"krishna\",\"praneet\"\n",
        "print(x)\n",
        "print(y)\n",
        "print(z)"
      ],
      "metadata": {
        "colab": {
          "base_uri": "https://localhost:8080/"
        },
        "id": "nLHq1VO7h9-v",
        "outputId": "7948be8e-0a88-4958-d014-92597a178d0e"
      },
      "execution_count": 2,
      "outputs": [
        {
          "output_type": "stream",
          "name": "stdout",
          "text": [
            "sai\n",
            "krishna\n",
            "praneet\n"
          ]
        }
      ]
    },
    {
      "cell_type": "code",
      "source": [
        "x,y,z=\"sai\",\"krishna\",\"praneet\"\n",
        "print(x,y,z)"
      ],
      "metadata": {
        "colab": {
          "base_uri": "https://localhost:8080/"
        },
        "id": "KDO-xHaCinS9",
        "outputId": "bb3e9b89-c470-4d9e-d423-539060d4b258"
      },
      "execution_count": 3,
      "outputs": [
        {
          "output_type": "stream",
          "name": "stdout",
          "text": [
            "sai krishna praneet\n"
          ]
        }
      ]
    },
    {
      "cell_type": "code",
      "source": [
        "# One Value to Multiple Variables\n",
        "x=y=z=\"sai\"\n",
        "print(x)\n",
        "print(y)\n",
        "print(z)"
      ],
      "metadata": {
        "colab": {
          "base_uri": "https://localhost:8080/"
        },
        "id": "xoHwcrKjiqQt",
        "outputId": "53f3bfbc-3c6c-4a17-a303-ff68df2c91dc"
      },
      "execution_count": 4,
      "outputs": [
        {
          "output_type": "stream",
          "name": "stdout",
          "text": [
            "sai\n",
            "sai\n",
            "sai\n"
          ]
        }
      ]
    },
    {
      "cell_type": "code",
      "source": [
        " # Unpack a Collection\n",
        "names=[\"sai\",\"krishna\",\"praneet\"]\n",
        "x,y,z=names\n",
        "print(x)\n",
        "print(y)\n",
        "print(z)"
      ],
      "metadata": {
        "colab": {
          "base_uri": "https://localhost:8080/"
        },
        "id": "94fJx5FvjNJl",
        "outputId": "3159939e-3353-46c8-9935-b700f0dd9275"
      },
      "execution_count": 6,
      "outputs": [
        {
          "output_type": "stream",
          "name": "stdout",
          "text": [
            "sai\n",
            "krishna\n",
            "praneet\n"
          ]
        }
      ]
    },
    {
      "cell_type": "code",
      "source": [
        "# Output Variables\n",
        "x=\"praneet is wastefellow\"\n",
        "print(x)"
      ],
      "metadata": {
        "colab": {
          "base_uri": "https://localhost:8080/"
        },
        "id": "7JDxcEMWjsuF",
        "outputId": "8c97c4de-f8e3-4c2e-a879-0d06e14acb1b"
      },
      "execution_count": 7,
      "outputs": [
        {
          "output_type": "stream",
          "name": "stdout",
          "text": [
            "praneet is wastefellow\n"
          ]
        }
      ]
    },
    {
      "cell_type": "code",
      "source": [
        "x=\"praneet\"\n",
        "y=\"is\"\n",
        "z=\"wastefellow\"\n",
        "print(x,y,z)"
      ],
      "metadata": {
        "colab": {
          "base_uri": "https://localhost:8080/"
        },
        "id": "bVFuYUvBkEZ2",
        "outputId": "1fe247ce-8335-47aa-b22d-a13154eeb9c8"
      },
      "execution_count": 9,
      "outputs": [
        {
          "output_type": "stream",
          "name": "stdout",
          "text": [
            "praneet is wastefellow\n"
          ]
        }
      ]
    },
    {
      "cell_type": "code",
      "source": [
        "x=10\n",
        "y=20\n",
        "print(x+y)"
      ],
      "metadata": {
        "colab": {
          "base_uri": "https://localhost:8080/"
        },
        "id": "9xxhQi4jkbb2",
        "outputId": "2c95f416-fb8b-468e-8c7a-f26e3a89c202"
      },
      "execution_count": 13,
      "outputs": [
        {
          "output_type": "stream",
          "name": "stdout",
          "text": [
            "30\n"
          ]
        }
      ]
    },
    {
      "cell_type": "code",
      "source": [
        "x=10\n",
        "y=20\n",
        "print(x+y)"
      ],
      "metadata": {
        "colab": {
          "base_uri": "https://localhost:8080/"
        },
        "id": "F5XqBPM0k86d",
        "outputId": "f736e7de-6622-4d41-8a14-0c3fee559009"
      },
      "execution_count": 14,
      "outputs": [
        {
          "output_type": "stream",
          "name": "stdout",
          "text": [
            "10 20\n"
          ]
        }
      ]
    },
    {
      "cell_type": "code",
      "source": [
        "x=10\n",
        "y=\"sai\"\n",
        "print(x,y)"
      ],
      "metadata": {
        "colab": {
          "base_uri": "https://localhost:8080/"
        },
        "id": "O9ERhwUVlARO",
        "outputId": "7a73211b-2bbc-4445-8f22-32f08e465b99"
      },
      "execution_count": 16,
      "outputs": [
        {
          "output_type": "stream",
          "name": "stdout",
          "text": [
            "10 sai\n"
          ]
        }
      ]
    },
    {
      "cell_type": "code",
      "source": [
        "# Global Variables\n",
        "x = \"wastefellow\"\n",
        "\n",
        "def y():\n",
        "  print(\"Praneet is \" + x)\n",
        "\n",
        "y()"
      ],
      "metadata": {
        "colab": {
          "base_uri": "https://localhost:8080/"
        },
        "id": "HBx6IKq3lMq2",
        "outputId": "575157fb-95aa-4d4b-e5b9-0f961a65dabf"
      },
      "execution_count": 24,
      "outputs": [
        {
          "output_type": "stream",
          "name": "stdout",
          "text": [
            "Praneet is wastefellow\n"
          ]
        }
      ]
    },
    {
      "cell_type": "code",
      "source": [
        "# The global Keyword\n",
        "def y():\n",
        "  global x\n",
        "  x = \"waste\"\n",
        "\n",
        "y()\n",
        "\n",
        "print(\"Praneet is \" + x)"
      ],
      "metadata": {
        "colab": {
          "base_uri": "https://localhost:8080/"
        },
        "id": "7zqB1q5km6C3",
        "outputId": "db791f64-07ff-4be4-b29e-2116027a8468"
      },
      "execution_count": 31,
      "outputs": [
        {
          "output_type": "stream",
          "name": "stdout",
          "text": [
            "Praneet is waste\n"
          ]
        }
      ]
    },
    {
      "cell_type": "code",
      "source": [
        "x=\"awesome\"\n",
        "def y():\n",
        "  x = \"fantastic\"\n",
        "print(\"Python is \" + x)\n",
        "y()\n",
        "\n",
        "print(\"Python is \" + x)"
      ],
      "metadata": {
        "colab": {
          "base_uri": "https://localhost:8080/"
        },
        "id": "BWb_G2WLnp8H",
        "outputId": "0394fb0c-772a-4889-a4f2-660376878d06"
      },
      "execution_count": 30,
      "outputs": [
        {
          "output_type": "stream",
          "name": "stdout",
          "text": [
            "Python is awesome\n",
            "Python is awesome\n"
          ]
        }
      ]
    },
    {
      "cell_type": "code",
      "source": [
        "x = \"waste\"\n",
        "\n",
        "def y():\n",
        "  global x\n",
        "  x =\"wastefellow\"\n",
        "\n",
        "y()\n",
        "\n",
        "print(\"Praneet is \" + x)"
      ],
      "metadata": {
        "colab": {
          "base_uri": "https://localhost:8080/"
        },
        "id": "u6zxD0U9oU3H",
        "outputId": "6240c925-d307-490b-9476-d1a1937c0609"
      },
      "execution_count": 33,
      "outputs": [
        {
          "output_type": "stream",
          "name": "stdout",
          "text": [
            "Praneet is wastefellow\n"
          ]
        }
      ]
    },
    {
      "cell_type": "code",
      "source": [
        ""
      ],
      "metadata": {
        "id": "FmcUDRyBomKv"
      },
      "execution_count": null,
      "outputs": []
    }
  ]
}