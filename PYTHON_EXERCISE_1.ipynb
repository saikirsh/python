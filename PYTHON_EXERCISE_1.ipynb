{
  "nbformat": 4,
  "nbformat_minor": 0,
  "metadata": {
    "colab": {
      "name": "PYTHON EXERCISE 1.ipynb",
      "provenance": [],
      "authorship_tag": "ABX9TyNsUpnM4sNrCrsfrkfvAiB9",
      "include_colab_link": true
    },
    "kernelspec": {
      "name": "python3",
      "display_name": "Python 3"
    },
    "language_info": {
      "name": "python"
    }
  },
  "cells": [
    {
      "cell_type": "markdown",
      "metadata": {
        "id": "view-in-github",
        "colab_type": "text"
      },
      "source": [
        "<a href=\"https://colab.research.google.com/github/saikirsh/python/blob/main/PYTHON_EXERCISE_1.ipynb\" target=\"_parent\"><img src=\"https://colab.research.google.com/assets/colab-badge.svg\" alt=\"Open In Colab\"/></a>"
      ]
    },
    {
      "cell_type": "code",
      "execution_count": 5,
      "metadata": {
        "colab": {
          "base_uri": "https://localhost:8080/"
        },
        "id": "2sAkGmnXStVH",
        "outputId": "62af1352-cfce-400d-db6a-50c0d0099a88"
      },
      "outputs": [
        {
          "output_type": "stream",
          "name": "stdout",
          "text": [
            "enter the value of 1st triangle 10\n",
            "enter the value of 2nd triangle 10\n",
            "enter the value of 3rd triangle 10\n",
            "Equilateral triangle\n"
          ]
        }
      ],
      "source": [
        "# checking  whether the triangle is equilateral, isosceles or scalene triangle\n",
        "a=input(\"enter the value of 1st triangle\")\n",
        "b=input(\"enter the value of 2nd triangle\")\n",
        "c=input(\"enter the value of 3rd triangle\")\n",
        "if a==b==c:\n",
        "     print(\"Equilateral triangle\")\n",
        "elif a==b or b==c or c==a:\n",
        "      print(\"isosceles triangle\")\n",
        "else:\n",
        "    print(\"Scalene triangle\")"
      ]
    },
    {
      "cell_type": "code",
      "source": [
        "# checking whether entered year is leap or not\n",
        "\n",
        "a=int(input(\"Enter year:\"))\n",
        "if (a%4==0):\n",
        "   \n",
        "    print(\"leap year\")\n",
        "else:\n",
        "    print(\"not leap year\")\n",
        "\n",
        " "
      ],
      "metadata": {
        "colab": {
          "base_uri": "https://localhost:8080/"
        },
        "id": "DMD41ZECTS7z",
        "outputId": "7f83151e-be39-4a5b-8874-75a23b02fdf8"
      },
      "execution_count": 11,
      "outputs": [
        {
          "output_type": "stream",
          "name": "stdout",
          "text": [
            "Enter year: 2022\n",
            "not leap year\n"
          ]
        }
      ]
    },
    {
      "cell_type": "code",
      "source": [
        ""
      ],
      "metadata": {
        "id": "JwHcqkNiVV_L"
      },
      "execution_count": null,
      "outputs": []
    }
  ]
}