{
  "nbformat": 4,
  "nbformat_minor": 0,
  "metadata": {
    "colab": {
      "name": "Regular expression",
      "provenance": [],
      "authorship_tag": "ABX9TyN956H4+zz7a/M+9dqDRlXJ",
      "include_colab_link": true
    },
    "kernelspec": {
      "name": "python3",
      "display_name": "Python 3"
    },
    "language_info": {
      "name": "python"
    }
  },
  "cells": [
    {
      "cell_type": "markdown",
      "metadata": {
        "id": "view-in-github",
        "colab_type": "text"
      },
      "source": [
        "<a href=\"https://colab.research.google.com/github/saikirsh/python/blob/main/Regular_expression.ipynb\" target=\"_parent\"><img src=\"https://colab.research.google.com/assets/colab-badge.svg\" alt=\"Open In Colab\"/></a>"
      ]
    },
    {
      "cell_type": "markdown",
      "source": [
        "Python RegEx"
      ],
      "metadata": {
        "id": "Sp_4kA0bMsxl"
      }
    },
    {
      "cell_type": "code",
      "execution_count": 24,
      "metadata": {
        "colab": {
          "base_uri": "https://localhost:8080/"
        },
        "id": "LP36YTHhJV1Y",
        "outputId": "0c82663c-c421-4f3d-e586-c2a3623ae971"
      },
      "outputs": [
        {
          "output_type": "stream",
          "name": "stdout",
          "text": [
            "YES! We have a match!\n"
          ]
        }
      ],
      "source": [
        "import re \n",
        "txt=\"I am krishna.study in Gitam vizag\"\n",
        "x = re.search(\"^I.*vizag$\", txt)\n",
        "if x:\n",
        "  print(\"YES! We have a match!\")\n",
        "else:\n",
        "  print(\"No match\")"
      ]
    },
    {
      "cell_type": "code",
      "source": [
        "##findall()\n",
        "import re\n",
        "txt = \"I am krishna.study in Gitam vizag\"\n",
        "x = re.findall(\"ri\", txt)\n",
        "print(x)"
      ],
      "metadata": {
        "colab": {
          "base_uri": "https://localhost:8080/"
        },
        "id": "_Ju5sCCtMK_h",
        "outputId": "40bf0933-ec1b-48ac-e517-87e848dc89bf"
      },
      "execution_count": 25,
      "outputs": [
        {
          "output_type": "stream",
          "name": "stdout",
          "text": [
            "['ri']\n"
          ]
        }
      ]
    },
    {
      "cell_type": "markdown",
      "source": [
        "Metacharacters"
      ],
      "metadata": {
        "id": "uqXcquVCOPuB"
      }
    },
    {
      "cell_type": "code",
      "source": [
        "##findall []\n",
        "import re\n",
        "txt = \"I am krishna.study in Gitam vizag\"\n",
        "x = re.findall(\"[a-n]\", txt)\n",
        "print(x)"
      ],
      "metadata": {
        "colab": {
          "base_uri": "https://localhost:8080/"
        },
        "id": "-lXqK4ZbMrpj",
        "outputId": "41865309-8fdd-41ca-f1b5-629cdb71caf3"
      },
      "execution_count": 26,
      "outputs": [
        {
          "output_type": "stream",
          "name": "stdout",
          "text": [
            "['a', 'm', 'k', 'i', 'h', 'n', 'a', 'd', 'i', 'n', 'i', 'a', 'm', 'i', 'a', 'g']\n"
          ]
        }
      ]
    },
    {
      "cell_type": "code",
      "source": [
        "import re\n",
        "txt = \"i won 1000 dollars\"\n",
        "x = re.findall(\"\\d\", txt)\n",
        "print(x)"
      ],
      "metadata": {
        "colab": {
          "base_uri": "https://localhost:8080/"
        },
        "id": "RcW4qEqwNYMA",
        "outputId": "6f21d33d-c3cb-4b0d-b924-a26d7c64908c"
      },
      "execution_count": 7,
      "outputs": [
        {
          "output_type": "stream",
          "name": "stdout",
          "text": [
            "['1', '0', '0', '0']\n"
          ]
        }
      ]
    },
    {
      "cell_type": "code",
      "source": [
        "import re\n",
        "txt = \"krishna\"\n",
        "x = re.findall(\"..is...\", txt)\n",
        "print(x)"
      ],
      "metadata": {
        "colab": {
          "base_uri": "https://localhost:8080/"
        },
        "id": "q_1RfqJAOxFj",
        "outputId": "ff6960d6-f40a-495a-d1d8-961de779cec9"
      },
      "execution_count": 10,
      "outputs": [
        {
          "output_type": "stream",
          "name": "stdout",
          "text": [
            "['krishna']\n"
          ]
        }
      ]
    },
    {
      "cell_type": "code",
      "source": [
        "##start with\n",
        "import re\n",
        "txt = \"I am krishna.study in Gitam vizag\"\n",
        "x = re.findall(\"^I\", txt)\n",
        "print(x)\n",
        "if x:\n",
        "  print(\"Yes, the string starts with 'I'\")\n",
        "else:\n",
        "  print(\"No match\")"
      ],
      "metadata": {
        "colab": {
          "base_uri": "https://localhost:8080/"
        },
        "id": "hg_TlqhdPC_T",
        "outputId": "613f8080-1b33-43fe-b198-3f66532d8940"
      },
      "execution_count": 27,
      "outputs": [
        {
          "output_type": "stream",
          "name": "stdout",
          "text": [
            "['I']\n",
            "Yes, the string starts with 'I'\n"
          ]
        }
      ]
    },
    {
      "cell_type": "code",
      "source": [
        "##ends with\n",
        "import re\n",
        "txt = \"I am krishna.study in Gitam vizag\"\n",
        "x = re.findall(\"vizag$\", txt)\n",
        "print(x)\n",
        "if x:\n",
        "  print(\"Yes, the string ends with 'vizag'\")\n",
        "else:\n",
        "  print(\"No match\")"
      ],
      "metadata": {
        "colab": {
          "base_uri": "https://localhost:8080/"
        },
        "id": "53cRBnQBPZ6K",
        "outputId": "06284df1-11ef-488d-efc3-fd1ce16cdbd0"
      },
      "execution_count": 28,
      "outputs": [
        {
          "output_type": "stream",
          "name": "stdout",
          "text": [
            "['vizag']\n",
            "Yes, the string ends with 'vizag'\n"
          ]
        }
      ]
    },
    {
      "cell_type": "code",
      "source": [
        "import re\n",
        "txt = \"I am krishna.study in Gitam vizag\"\n",
        "x = re.findall(\"kri.*zag\", txt)\n",
        "print(x)"
      ],
      "metadata": {
        "colab": {
          "base_uri": "https://localhost:8080/"
        },
        "id": "T17l_fT3PpSq",
        "outputId": "aa46de91-bf95-4c9a-df89-bce000cee262"
      },
      "execution_count": 29,
      "outputs": [
        {
          "output_type": "stream",
          "name": "stdout",
          "text": [
            "['krishna.study in Gitam vizag']\n"
          ]
        }
      ]
    },
    {
      "cell_type": "code",
      "source": [
        "import re\n",
        "txt = \"I am krishna.study in Gitam vizag\"\n",
        "x = re.findall(\"kri.+zag\", txt)\n",
        "print(x)"
      ],
      "metadata": {
        "colab": {
          "base_uri": "https://localhost:8080/"
        },
        "id": "_lIm-vlLRACV",
        "outputId": "288e99fa-0aee-4d96-c403-cd103bae7fa1"
      },
      "execution_count": 30,
      "outputs": [
        {
          "output_type": "stream",
          "name": "stdout",
          "text": [
            "['krishna.study in Gitam vizag']\n"
          ]
        }
      ]
    },
    {
      "cell_type": "code",
      "source": [
        "import re\n",
        "txt = \"I am krishna.study in Gitam vizag\"\n",
        "x = re.findall(\"kri.?zag\", txt)\n",
        "print(x)"
      ],
      "metadata": {
        "colab": {
          "base_uri": "https://localhost:8080/"
        },
        "id": "FwifwjrsRMay",
        "outputId": "2cf5a4b8-c4f1-4267-efe3-0f08823b8905"
      },
      "execution_count": 31,
      "outputs": [
        {
          "output_type": "stream",
          "name": "stdout",
          "text": [
            "[]\n"
          ]
        }
      ]
    },
    {
      "cell_type": "code",
      "source": [
        "import re\n",
        "txt = \"I am krishna.study in Gitam vizag\"\n",
        "x = re.findall(\"kri.{22}zag\", txt)\n",
        "print(x)"
      ],
      "metadata": {
        "colab": {
          "base_uri": "https://localhost:8080/"
        },
        "id": "-QacE70oRU26",
        "outputId": "82cf5786-6ff7-42ea-92b2-09f422d1f055"
      },
      "execution_count": 35,
      "outputs": [
        {
          "output_type": "stream",
          "name": "stdout",
          "text": [
            "['krishna.study in Gitam vizag']\n"
          ]
        }
      ]
    },
    {
      "cell_type": "code",
      "source": [
        "import re\n",
        "txt = \"I am krishna.study in Gitam vizag\"\n",
        "x = re.findall(\"in|or\", txt)\n",
        "print(x)\n",
        "if x:\n",
        "  print(\"Yes, there is at least one match!\")\n",
        "else:\n",
        "  print(\"No match\")"
      ],
      "metadata": {
        "colab": {
          "base_uri": "https://localhost:8080/"
        },
        "id": "GZJWq23RSKtS",
        "outputId": "4079c213-09fe-4818-bf5e-d6bfb03b5fdc"
      },
      "execution_count": 36,
      "outputs": [
        {
          "output_type": "stream",
          "name": "stdout",
          "text": [
            "['in']\n",
            "Yes, there is at least one match!\n"
          ]
        }
      ]
    },
    {
      "cell_type": "markdown",
      "source": [
        "Special Sequences"
      ],
      "metadata": {
        "id": "C244WlH4Tq2C"
      }
    },
    {
      "cell_type": "code",
      "source": [
        "##\\A\n",
        "import re\n",
        "txt = \"I am krishna.study in Gitam vizag\"\n",
        "x = re.findall(\"\\AI\", txt)\n",
        "print(x)\n",
        "if x:\n",
        "  print(\"Yes, there is a match!\")\n",
        "else:\n",
        "  print(\"No match\")"
      ],
      "metadata": {
        "colab": {
          "base_uri": "https://localhost:8080/"
        },
        "id": "J-dG4BlfTnvL",
        "outputId": "6c94efbf-24dc-45b5-c68e-e9ec88c2c746"
      },
      "execution_count": 45,
      "outputs": [
        {
          "output_type": "stream",
          "name": "stdout",
          "text": [
            "['I']\n",
            "Yes, there is a match!\n"
          ]
        }
      ]
    }
  ]
}