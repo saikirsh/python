{
  "nbformat": 4,
  "nbformat_minor": 0,
  "metadata": {
    "colab": {
      "name": "Regular expression",
      "provenance": [],
      "authorship_tag": "ABX9TyOUI0GRNdEI0zRo2TcrRLdY",
      "include_colab_link": true
    },
    "kernelspec": {
      "name": "python3",
      "display_name": "Python 3"
    },
    "language_info": {
      "name": "python"
    }
  },
  "cells": [
    {
      "cell_type": "markdown",
      "metadata": {
        "id": "view-in-github",
        "colab_type": "text"
      },
      "source": [
        "<a href=\"https://colab.research.google.com/github/saikirsh/python/blob/main/Regular_expression.ipynb\" target=\"_parent\"><img src=\"https://colab.research.google.com/assets/colab-badge.svg\" alt=\"Open In Colab\"/></a>"
      ]
    },
    {
      "cell_type": "markdown",
      "source": [
        "Python RegEx"
      ],
      "metadata": {
        "id": "Sp_4kA0bMsxl"
      }
    },
    {
      "cell_type": "code",
      "execution_count": 1,
      "metadata": {
        "colab": {
          "base_uri": "https://localhost:8080/"
        },
        "id": "LP36YTHhJV1Y",
        "outputId": "2e7ce272-77ff-4aa4-e0cc-90e778404dd7"
      },
      "outputs": [
        {
          "output_type": "stream",
          "name": "stdout",
          "text": [
            "YES! We have a match!\n"
          ]
        }
      ],
      "source": [
        "import re \n",
        "txt=\"I am krishna.study in Gitam vizag\"\n",
        "x = re.search(\"^I.*vizag$\", txt)\n",
        "if x:\n",
        "  print(\"YES! We have a match!\")\n",
        "else:\n",
        "  print(\"No match\")"
      ]
    },
    {
      "cell_type": "code",
      "source": [
        "##findall()\n",
        "import re\n",
        "txt = \"I am krishna.study in Gitam vizag\"\n",
        "x = re.findall(\"ri\", txt)\n",
        "print(x)"
      ],
      "metadata": {
        "colab": {
          "base_uri": "https://localhost:8080/"
        },
        "id": "_Ju5sCCtMK_h",
        "outputId": "75c148eb-dbac-4810-97d9-4e9e66b2a83c"
      },
      "execution_count": 2,
      "outputs": [
        {
          "output_type": "stream",
          "name": "stdout",
          "text": [
            "['ri']\n"
          ]
        }
      ]
    },
    {
      "cell_type": "markdown",
      "source": [
        "Metacharacters"
      ],
      "metadata": {
        "id": "uqXcquVCOPuB"
      }
    },
    {
      "cell_type": "code",
      "source": [
        "##findall []\n",
        "import re\n",
        "txt = \"I am krishna.study in Gitam vizag\"\n",
        "x = re.findall(\"[a-n]\", txt)\n",
        "print(x)"
      ],
      "metadata": {
        "colab": {
          "base_uri": "https://localhost:8080/"
        },
        "id": "-lXqK4ZbMrpj",
        "outputId": "41865309-8fdd-41ca-f1b5-629cdb71caf3"
      },
      "execution_count": null,
      "outputs": [
        {
          "output_type": "stream",
          "name": "stdout",
          "text": [
            "['a', 'm', 'k', 'i', 'h', 'n', 'a', 'd', 'i', 'n', 'i', 'a', 'm', 'i', 'a', 'g']\n"
          ]
        }
      ]
    },
    {
      "cell_type": "code",
      "source": [
        "import re\n",
        "txt = \"i won 1000 dollars\"\n",
        "x = re.findall(\"\\d\", txt)\n",
        "print(x)"
      ],
      "metadata": {
        "colab": {
          "base_uri": "https://localhost:8080/"
        },
        "id": "RcW4qEqwNYMA",
        "outputId": "6f21d33d-c3cb-4b0d-b924-a26d7c64908c"
      },
      "execution_count": null,
      "outputs": [
        {
          "output_type": "stream",
          "name": "stdout",
          "text": [
            "['1', '0', '0', '0']\n"
          ]
        }
      ]
    },
    {
      "cell_type": "code",
      "source": [
        "import re\n",
        "txt = \"krishna\"\n",
        "x = re.findall(\"..is...\", txt)\n",
        "print(x)"
      ],
      "metadata": {
        "colab": {
          "base_uri": "https://localhost:8080/"
        },
        "id": "q_1RfqJAOxFj",
        "outputId": "ff6960d6-f40a-495a-d1d8-961de779cec9"
      },
      "execution_count": null,
      "outputs": [
        {
          "output_type": "stream",
          "name": "stdout",
          "text": [
            "['krishna']\n"
          ]
        }
      ]
    },
    {
      "cell_type": "code",
      "source": [
        "##start with\n",
        "import re\n",
        "txt = \"I am krishna.study in Gitam vizag\"\n",
        "x = re.findall(\"^I\", txt)\n",
        "print(x)\n",
        "if x:\n",
        "  print(\"Yes, the string starts with 'I'\")\n",
        "else:\n",
        "  print(\"No match\")"
      ],
      "metadata": {
        "colab": {
          "base_uri": "https://localhost:8080/"
        },
        "id": "hg_TlqhdPC_T",
        "outputId": "613f8080-1b33-43fe-b198-3f66532d8940"
      },
      "execution_count": null,
      "outputs": [
        {
          "output_type": "stream",
          "name": "stdout",
          "text": [
            "['I']\n",
            "Yes, the string starts with 'I'\n"
          ]
        }
      ]
    },
    {
      "cell_type": "code",
      "source": [
        "##ends with\n",
        "import re\n",
        "txt = \"I am krishna.study in Gitam vizag\"\n",
        "x = re.findall(\"vizag$\", txt)\n",
        "print(x)\n",
        "if x:\n",
        "  print(\"Yes, the string ends with 'vizag'\")\n",
        "else:\n",
        "  print(\"No match\")"
      ],
      "metadata": {
        "colab": {
          "base_uri": "https://localhost:8080/"
        },
        "id": "53cRBnQBPZ6K",
        "outputId": "06284df1-11ef-488d-efc3-fd1ce16cdbd0"
      },
      "execution_count": null,
      "outputs": [
        {
          "output_type": "stream",
          "name": "stdout",
          "text": [
            "['vizag']\n",
            "Yes, the string ends with 'vizag'\n"
          ]
        }
      ]
    },
    {
      "cell_type": "code",
      "source": [
        "import re\n",
        "txt = \"I am krishna.study in Gitam vizag\"\n",
        "x = re.findall(\"kri.*zag\", txt)\n",
        "print(x)"
      ],
      "metadata": {
        "colab": {
          "base_uri": "https://localhost:8080/"
        },
        "id": "T17l_fT3PpSq",
        "outputId": "aa46de91-bf95-4c9a-df89-bce000cee262"
      },
      "execution_count": null,
      "outputs": [
        {
          "output_type": "stream",
          "name": "stdout",
          "text": [
            "['krishna.study in Gitam vizag']\n"
          ]
        }
      ]
    },
    {
      "cell_type": "code",
      "source": [
        "import re\n",
        "txt = \"I am krishna.study in Gitam vizag\"\n",
        "x = re.findall(\"kri.+zag\", txt)\n",
        "print(x)"
      ],
      "metadata": {
        "colab": {
          "base_uri": "https://localhost:8080/"
        },
        "id": "_lIm-vlLRACV",
        "outputId": "288e99fa-0aee-4d96-c403-cd103bae7fa1"
      },
      "execution_count": null,
      "outputs": [
        {
          "output_type": "stream",
          "name": "stdout",
          "text": [
            "['krishna.study in Gitam vizag']\n"
          ]
        }
      ]
    },
    {
      "cell_type": "code",
      "source": [
        "import re\n",
        "txt = \"I am krishna.study in Gitam vizag\"\n",
        "x = re.findall(\"kri.?zag\", txt)\n",
        "print(x)"
      ],
      "metadata": {
        "colab": {
          "base_uri": "https://localhost:8080/"
        },
        "id": "FwifwjrsRMay",
        "outputId": "2cf5a4b8-c4f1-4267-efe3-0f08823b8905"
      },
      "execution_count": null,
      "outputs": [
        {
          "output_type": "stream",
          "name": "stdout",
          "text": [
            "[]\n"
          ]
        }
      ]
    },
    {
      "cell_type": "code",
      "source": [
        "import re\n",
        "txt = \"I am krishna.study in Gitam vizag\"\n",
        "x = re.findall(\"kri.{22}zag\", txt)\n",
        "print(x)"
      ],
      "metadata": {
        "colab": {
          "base_uri": "https://localhost:8080/"
        },
        "id": "-QacE70oRU26",
        "outputId": "82cf5786-6ff7-42ea-92b2-09f422d1f055"
      },
      "execution_count": null,
      "outputs": [
        {
          "output_type": "stream",
          "name": "stdout",
          "text": [
            "['krishna.study in Gitam vizag']\n"
          ]
        }
      ]
    },
    {
      "cell_type": "code",
      "source": [
        "import re\n",
        "txt = \"I am krishna.study in Gitam vizag\"\n",
        "x = re.findall(\"in|or\", txt)\n",
        "print(x)\n",
        "if x:\n",
        "  print(\"Yes, there is at least one match!\")\n",
        "else:\n",
        "  print(\"No match\")"
      ],
      "metadata": {
        "colab": {
          "base_uri": "https://localhost:8080/"
        },
        "id": "GZJWq23RSKtS",
        "outputId": "4079c213-09fe-4818-bf5e-d6bfb03b5fdc"
      },
      "execution_count": null,
      "outputs": [
        {
          "output_type": "stream",
          "name": "stdout",
          "text": [
            "['in']\n",
            "Yes, there is at least one match!\n"
          ]
        }
      ]
    },
    {
      "cell_type": "markdown",
      "source": [
        "Special Sequences"
      ],
      "metadata": {
        "id": "C244WlH4Tq2C"
      }
    },
    {
      "cell_type": "code",
      "source": [
        "##\\A\n",
        "import re\n",
        "txt = \"I am krishna.study in Gitam vizag\"\n",
        "x = re.findall(\"\\AI\", txt)\n",
        "print(x)\n",
        "if x:\n",
        "  print(\"Yes, there is a match!\")\n",
        "else:\n",
        "  print(\"No match\")"
      ],
      "metadata": {
        "colab": {
          "base_uri": "https://localhost:8080/"
        },
        "id": "J-dG4BlfTnvL",
        "outputId": "007fa584-4e3b-4f25-f2b1-29791f4dafa1"
      },
      "execution_count": 3,
      "outputs": [
        {
          "output_type": "stream",
          "name": "stdout",
          "text": [
            "['I']\n",
            "Yes, there is a match!\n"
          ]
        }
      ]
    },
    {
      "cell_type": "markdown",
      "source": [
        "search() Function"
      ],
      "metadata": {
        "id": "_JEvSnXD2Fbt"
      }
    },
    {
      "cell_type": "code",
      "source": [
        "##search()\n",
        "import re\n",
        "txt = \"I am krishna.study in Gitam vizag\"\n",
        "x = re.search(\"\\s\", txt)\n",
        "print(\"The first white-space character is located in position:\", x.start()) "
      ],
      "metadata": {
        "colab": {
          "base_uri": "https://localhost:8080/"
        },
        "id": "w5C-_Few2Gjd",
        "outputId": "baf63a68-5d08-40f1-e9f3-a13af86bfaca"
      },
      "execution_count": 6,
      "outputs": [
        {
          "output_type": "stream",
          "name": "stdout",
          "text": [
            "The first white-space character is located in position: 1\n"
          ]
        }
      ]
    },
    {
      "cell_type": "code",
      "source": [
        "##If no matches are found, the value None is returned:\n",
        "import re\n",
        "txt = \"I am krishna.study in Gitam vizag\"\n",
        "x = re.search(\"vijaywada\", txt)\n",
        "print(x)"
      ],
      "metadata": {
        "colab": {
          "base_uri": "https://localhost:8080/"
        },
        "id": "myFz-tyd2q28",
        "outputId": "40446b02-0e15-40c4-ea09-75db858f218f"
      },
      "execution_count": 7,
      "outputs": [
        {
          "output_type": "stream",
          "name": "stdout",
          "text": [
            "None\n"
          ]
        }
      ]
    },
    {
      "cell_type": "markdown",
      "source": [
        "split() function"
      ],
      "metadata": {
        "id": "NeOna2IB5LnO"
      }
    },
    {
      "cell_type": "code",
      "source": [
        "##Example\n",
        "##Split at each white-space character:\n",
        "import re\n",
        "txt = \"I am krishna.study in Gitam vizag\"\n",
        "x = re.split(\"\\s\", txt)\n",
        "print(x)"
      ],
      "metadata": {
        "colab": {
          "base_uri": "https://localhost:8080/"
        },
        "id": "6wyWtxLS5Pc9",
        "outputId": "f983b16f-9187-4462-bfcc-fe12779bdc50"
      },
      "execution_count": 8,
      "outputs": [
        {
          "output_type": "stream",
          "name": "stdout",
          "text": [
            "['I', 'am', 'krishna.study', 'in', 'Gitam', 'vizag']\n"
          ]
        }
      ]
    },
    {
      "cell_type": "code",
      "source": [
        "##You can control the number of occurrences by specifying the maxsplit parameter:\n",
        "import re\n",
        "txt = \"I am krishna.study in Gitam vizag\"\n",
        "x = re.split(\"\\s\", txt, 3)\n",
        "print(x)"
      ],
      "metadata": {
        "colab": {
          "base_uri": "https://localhost:8080/"
        },
        "id": "6EAk1Xxt5hVm",
        "outputId": "c688f645-671c-4fdc-9ed2-27deb8f97fe3"
      },
      "execution_count": 11,
      "outputs": [
        {
          "output_type": "stream",
          "name": "stdout",
          "text": [
            "['I', 'am', 'krishna.study', 'in Gitam vizag']\n"
          ]
        }
      ]
    }
  ]
}