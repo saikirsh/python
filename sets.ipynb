{
  "nbformat": 4,
  "nbformat_minor": 0,
  "metadata": {
    "colab": {
      "name": "sets.ipynb",
      "provenance": [],
      "authorship_tag": "ABX9TyO6YB2rzs5v6L0qoN6wrjfS",
      "include_colab_link": true
    },
    "kernelspec": {
      "name": "python3",
      "display_name": "Python 3"
    },
    "language_info": {
      "name": "python"
    }
  },
  "cells": [
    {
      "cell_type": "markdown",
      "metadata": {
        "id": "view-in-github",
        "colab_type": "text"
      },
      "source": [
        "<a href=\"https://colab.research.google.com/github/saikirsh/python/blob/main/sets.ipynb\" target=\"_parent\"><img src=\"https://colab.research.google.com/assets/colab-badge.svg\" alt=\"Open In Colab\"/></a>"
      ]
    },
    {
      "cell_type": "markdown",
      "source": [
        "SETS"
      ],
      "metadata": {
        "id": "1EsHBrRaBnis"
      }
    },
    {
      "cell_type": "code",
      "execution_count": 1,
      "metadata": {
        "colab": {
          "base_uri": "https://localhost:8080/"
        },
        "id": "FY4teIh_BkGJ",
        "outputId": "4508c1eb-d9cc-42b9-821a-9b9cecaabe89"
      },
      "outputs": [
        {
          "output_type": "stream",
          "name": "stdout",
          "text": [
            "{'sai', 'krishna', 'praneeth'}\n"
          ]
        }
      ],
      "source": [
        "#Python Sets\n",
        "x={\"sai\",\"krishna\",\"praneeth\"}\n",
        "print(x)"
      ]
    },
    {
      "cell_type": "code",
      "source": [
        "# SETS Duplicates Not Allowed\n",
        "x={\"sai\",\"krishna\",\"praneeth\",\"sai\"}\n",
        "print(x)"
      ],
      "metadata": {
        "colab": {
          "base_uri": "https://localhost:8080/"
        },
        "id": "VH9YOGLuBxlD",
        "outputId": "9a6110a9-bbf1-4676-c714-1fc92bf4ebe0"
      },
      "execution_count": 2,
      "outputs": [
        {
          "output_type": "stream",
          "name": "stdout",
          "text": [
            "{'sai', 'krishna', 'praneeth'}\n"
          ]
        }
      ]
    },
    {
      "cell_type": "code",
      "source": [
        "#Get the Length of a Set\n",
        "x={\"sai\",\"krishna\",\"praneeth\"}\n",
        "print(len(x))"
      ],
      "metadata": {
        "colab": {
          "base_uri": "https://localhost:8080/"
        },
        "id": "HNjnc8v_B-98",
        "outputId": "d4c2a4ba-340b-44cc-c05d-5115c500e95f"
      },
      "execution_count": 3,
      "outputs": [
        {
          "output_type": "stream",
          "name": "stdout",
          "text": [
            "3\n"
          ]
        }
      ]
    },
    {
      "cell_type": "code",
      "source": [
        "#Set Items - Data Types\n",
        "x={\"sai\",\"krishna\",\"praneeth\"}\n",
        "y = {1, 5, 7, 9, 3}\n",
        "z = {True, False, False}\n",
        "print(x)\n",
        "print(y)\n",
        "print(z)"
      ],
      "metadata": {
        "colab": {
          "base_uri": "https://localhost:8080/"
        },
        "id": "CsGS28V8CTr7",
        "outputId": "40cad74f-4a85-4abc-ca07-ff56c446507a"
      },
      "execution_count": 6,
      "outputs": [
        {
          "output_type": "stream",
          "name": "stdout",
          "text": [
            "{'sai', 'krishna', 'praneeth'}\n",
            "{1, 3, 5, 7, 9}\n",
            "{False, True}\n"
          ]
        }
      ]
    },
    {
      "cell_type": "code",
      "source": [
        "# A set with strings, integers and boolean values:\n",
        "x = {\"sai\", 19, False, 18, \"not\"}\n",
        "\n",
        "print(x)"
      ],
      "metadata": {
        "colab": {
          "base_uri": "https://localhost:8080/"
        },
        "id": "-kTCJQtrC71j",
        "outputId": "8c6d866f-4912-46e1-ef1b-46359408fbda"
      },
      "execution_count": 8,
      "outputs": [
        {
          "output_type": "stream",
          "name": "stdout",
          "text": [
            "{False, 'sai', 18, 19, 'not'}\n"
          ]
        }
      ]
    },
    {
      "cell_type": "code",
      "source": [
        "# types in sets \n",
        "x={\"sai\",\"krishna\",\"praneeth\"}\n",
        "print(type(x))"
      ],
      "metadata": {
        "colab": {
          "base_uri": "https://localhost:8080/"
        },
        "id": "JF5bmZz7DjZk",
        "outputId": "add08c3f-b814-4ae8-db47-f8f97aee7a94"
      },
      "execution_count": 9,
      "outputs": [
        {
          "output_type": "stream",
          "name": "stdout",
          "text": [
            "<class 'set'>\n"
          ]
        }
      ]
    },
    {
      "cell_type": "code",
      "source": [
        "#The set() Constructor\n",
        "x=set((\"sai\",\"krishna\",\"praneeth\"))\n",
        "print(x)"
      ],
      "metadata": {
        "colab": {
          "base_uri": "https://localhost:8080/"
        },
        "id": "03pXw1WID1iL",
        "outputId": "ad982045-8e47-4f94-b6d9-20540d4c836c"
      },
      "execution_count": 10,
      "outputs": [
        {
          "output_type": "stream",
          "name": "stdout",
          "text": [
            "{'sai', 'krishna', 'praneeth'}\n"
          ]
        }
      ]
    }
  ]
}